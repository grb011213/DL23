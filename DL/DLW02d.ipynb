{
  "nbformat": 4,
  "nbformat_minor": 0,
  "metadata": {
    "colab": {
      "provenance": [],
      "include_colab_link": true
    },
    "kernelspec": {
      "name": "python3",
      "display_name": "Python 3"
    },
    "language_info": {
      "name": "python"
    }
  },
  "cells": [
    {
      "cell_type": "markdown",
      "metadata": {
        "id": "view-in-github",
        "colab_type": "text"
      },
      "source": [
        "<a href=\"https://colab.research.google.com/github/grb011213/DL23/blob/main/DL/DLW02d.ipynb\" target=\"_parent\"><img src=\"https://colab.research.google.com/assets/colab-badge.svg\" alt=\"Open In Colab\"/></a>"
      ]
    },
    {
      "cell_type": "markdown",
      "source": [
        "---\n",
        "# 📗 Topic [2]: Coding basic #2\n",
        "---\n",
        "Keywords:\n",
        "\n",
        "+ variables\n",
        "+ **operators**\n",
        "+ **data types: list and dictionary**"
      ],
      "metadata": {
        "id": "k4A5_MYHpcNQ"
      }
    },
    {
      "cell_type": "markdown",
      "source": [
        "Your github IDs [here](https://docs.google.com/spreadsheets/d/17SX51lCqOdtvC7cAGoX5tP9fKwVdGY5sRzMg2pXh9uk/edit#gid=0) - revised 0327"
      ],
      "metadata": {
        "id": "mUVgzk50XMkt"
      }
    },
    {
      "cell_type": "markdown",
      "source": [
        "## [1] Variables"
      ],
      "metadata": {
        "id": "93gQaEo1RX63"
      }
    },
    {
      "cell_type": "markdown",
      "source": [
        "+ **A variable** is a named storage location that holds a value.\n",
        "+ Variables can be used **to store values** such as numbers, strings, lists, or other data types. \n",
        "+ The value of a variable can change throughout the execution of a program. \n",
        "+ To declare a variable in Python, you need to assign a value to it using the **equal (=) sign.**"
      ],
      "metadata": {
        "id": "jJT4hD1teuJr"
      }
    },
    {
      "cell_type": "code",
      "source": [
        "x = 10\n",
        "y = \"Hello, class!\"\n",
        "z = [1, 2, 3]"
      ],
      "metadata": {
        "id": "Xes87bY2X45M"
      },
      "execution_count": 1,
      "outputs": []
    },
    {
      "cell_type": "markdown",
      "source": [
        "↗️ In the above example, 'x' is assigned the value of 10, 'y' is assigned the value of \"Hello, World!\", and 'z' is assigned the value of [1, 2, 3]."
      ],
      "metadata": {
        "id": "ulw6QsP5ZiKp"
      }
    },
    {
      "cell_type": "code",
      "source": [
        "# We can assign a link or a function\n",
        "import pandas as pd\n",
        "url = \"https://github.com/MK316/Spring2023/raw/main/data/att_sample.csv\"\n",
        "data = pd.read_csv(url)\n",
        "data"
      ],
      "metadata": {
        "id": "_7bvpJt2aQmg",
        "outputId": "eebda433-adcf-470d-c09e-34173b5ae2b5",
        "colab": {
          "base_uri": "https://localhost:8080/",
          "height": 488
        }
      },
      "execution_count": 2,
      "outputs": [
        {
          "output_type": "execute_result",
          "data": {
            "text/plain": [
              "      Names\n",
              "0      Mary\n",
              "1      John\n",
              "2       Tim\n",
              "3       Bob\n",
              "4     Sarah\n",
              "5      Kate\n",
              "6     Marie\n",
              "7   Johnson\n",
              "8      Mike\n",
              "9     Harry\n",
              "10      Jin\n",
              "11      Sam\n",
              "12     Paul\n",
              "13  Natalie"
            ],
            "text/html": [
              "\n",
              "  <div id=\"df-350199d2-ca11-4ec5-92ff-530c1456ef86\">\n",
              "    <div class=\"colab-df-container\">\n",
              "      <div>\n",
              "<style scoped>\n",
              "    .dataframe tbody tr th:only-of-type {\n",
              "        vertical-align: middle;\n",
              "    }\n",
              "\n",
              "    .dataframe tbody tr th {\n",
              "        vertical-align: top;\n",
              "    }\n",
              "\n",
              "    .dataframe thead th {\n",
              "        text-align: right;\n",
              "    }\n",
              "</style>\n",
              "<table border=\"1\" class=\"dataframe\">\n",
              "  <thead>\n",
              "    <tr style=\"text-align: right;\">\n",
              "      <th></th>\n",
              "      <th>Names</th>\n",
              "    </tr>\n",
              "  </thead>\n",
              "  <tbody>\n",
              "    <tr>\n",
              "      <th>0</th>\n",
              "      <td>Mary</td>\n",
              "    </tr>\n",
              "    <tr>\n",
              "      <th>1</th>\n",
              "      <td>John</td>\n",
              "    </tr>\n",
              "    <tr>\n",
              "      <th>2</th>\n",
              "      <td>Tim</td>\n",
              "    </tr>\n",
              "    <tr>\n",
              "      <th>3</th>\n",
              "      <td>Bob</td>\n",
              "    </tr>\n",
              "    <tr>\n",
              "      <th>4</th>\n",
              "      <td>Sarah</td>\n",
              "    </tr>\n",
              "    <tr>\n",
              "      <th>5</th>\n",
              "      <td>Kate</td>\n",
              "    </tr>\n",
              "    <tr>\n",
              "      <th>6</th>\n",
              "      <td>Marie</td>\n",
              "    </tr>\n",
              "    <tr>\n",
              "      <th>7</th>\n",
              "      <td>Johnson</td>\n",
              "    </tr>\n",
              "    <tr>\n",
              "      <th>8</th>\n",
              "      <td>Mike</td>\n",
              "    </tr>\n",
              "    <tr>\n",
              "      <th>9</th>\n",
              "      <td>Harry</td>\n",
              "    </tr>\n",
              "    <tr>\n",
              "      <th>10</th>\n",
              "      <td>Jin</td>\n",
              "    </tr>\n",
              "    <tr>\n",
              "      <th>11</th>\n",
              "      <td>Sam</td>\n",
              "    </tr>\n",
              "    <tr>\n",
              "      <th>12</th>\n",
              "      <td>Paul</td>\n",
              "    </tr>\n",
              "    <tr>\n",
              "      <th>13</th>\n",
              "      <td>Natalie</td>\n",
              "    </tr>\n",
              "  </tbody>\n",
              "</table>\n",
              "</div>\n",
              "      <button class=\"colab-df-convert\" onclick=\"convertToInteractive('df-350199d2-ca11-4ec5-92ff-530c1456ef86')\"\n",
              "              title=\"Convert this dataframe to an interactive table.\"\n",
              "              style=\"display:none;\">\n",
              "        \n",
              "  <svg xmlns=\"http://www.w3.org/2000/svg\" height=\"24px\"viewBox=\"0 0 24 24\"\n",
              "       width=\"24px\">\n",
              "    <path d=\"M0 0h24v24H0V0z\" fill=\"none\"/>\n",
              "    <path d=\"M18.56 5.44l.94 2.06.94-2.06 2.06-.94-2.06-.94-.94-2.06-.94 2.06-2.06.94zm-11 1L8.5 8.5l.94-2.06 2.06-.94-2.06-.94L8.5 2.5l-.94 2.06-2.06.94zm10 10l.94 2.06.94-2.06 2.06-.94-2.06-.94-.94-2.06-.94 2.06-2.06.94z\"/><path d=\"M17.41 7.96l-1.37-1.37c-.4-.4-.92-.59-1.43-.59-.52 0-1.04.2-1.43.59L10.3 9.45l-7.72 7.72c-.78.78-.78 2.05 0 2.83L4 21.41c.39.39.9.59 1.41.59.51 0 1.02-.2 1.41-.59l7.78-7.78 2.81-2.81c.8-.78.8-2.07 0-2.86zM5.41 20L4 18.59l7.72-7.72 1.47 1.35L5.41 20z\"/>\n",
              "  </svg>\n",
              "      </button>\n",
              "      \n",
              "  <style>\n",
              "    .colab-df-container {\n",
              "      display:flex;\n",
              "      flex-wrap:wrap;\n",
              "      gap: 12px;\n",
              "    }\n",
              "\n",
              "    .colab-df-convert {\n",
              "      background-color: #E8F0FE;\n",
              "      border: none;\n",
              "      border-radius: 50%;\n",
              "      cursor: pointer;\n",
              "      display: none;\n",
              "      fill: #1967D2;\n",
              "      height: 32px;\n",
              "      padding: 0 0 0 0;\n",
              "      width: 32px;\n",
              "    }\n",
              "\n",
              "    .colab-df-convert:hover {\n",
              "      background-color: #E2EBFA;\n",
              "      box-shadow: 0px 1px 2px rgba(60, 64, 67, 0.3), 0px 1px 3px 1px rgba(60, 64, 67, 0.15);\n",
              "      fill: #174EA6;\n",
              "    }\n",
              "\n",
              "    [theme=dark] .colab-df-convert {\n",
              "      background-color: #3B4455;\n",
              "      fill: #D2E3FC;\n",
              "    }\n",
              "\n",
              "    [theme=dark] .colab-df-convert:hover {\n",
              "      background-color: #434B5C;\n",
              "      box-shadow: 0px 1px 3px 1px rgba(0, 0, 0, 0.15);\n",
              "      filter: drop-shadow(0px 1px 2px rgba(0, 0, 0, 0.3));\n",
              "      fill: #FFFFFF;\n",
              "    }\n",
              "  </style>\n",
              "\n",
              "      <script>\n",
              "        const buttonEl =\n",
              "          document.querySelector('#df-350199d2-ca11-4ec5-92ff-530c1456ef86 button.colab-df-convert');\n",
              "        buttonEl.style.display =\n",
              "          google.colab.kernel.accessAllowed ? 'block' : 'none';\n",
              "\n",
              "        async function convertToInteractive(key) {\n",
              "          const element = document.querySelector('#df-350199d2-ca11-4ec5-92ff-530c1456ef86');\n",
              "          const dataTable =\n",
              "            await google.colab.kernel.invokeFunction('convertToInteractive',\n",
              "                                                     [key], {});\n",
              "          if (!dataTable) return;\n",
              "\n",
              "          const docLinkHtml = 'Like what you see? Visit the ' +\n",
              "            '<a target=\"_blank\" href=https://colab.research.google.com/notebooks/data_table.ipynb>data table notebook</a>'\n",
              "            + ' to learn more about interactive tables.';\n",
              "          element.innerHTML = '';\n",
              "          dataTable['output_type'] = 'display_data';\n",
              "          await google.colab.output.renderOutput(dataTable, element);\n",
              "          const docLink = document.createElement('div');\n",
              "          docLink.innerHTML = docLinkHtml;\n",
              "          element.appendChild(docLink);\n",
              "        }\n",
              "      </script>\n",
              "    </div>\n",
              "  </div>\n",
              "  "
            ]
          },
          "metadata": {},
          "execution_count": 2
        }
      ]
    },
    {
      "cell_type": "markdown",
      "source": [
        "## Commenting '#'\n",
        "\n",
        "- In Python, the # symbol is used to indicate comment lines. A comment is a line of text in a code that is ignored by the Python interpreter and is used to provide explanations or notes for the reader of the code.\n",
        "\n",
        "## Uncommenting shortcut: \n",
        "* \"Ctrl + /\" (Place the cursor on the code line and press the Control + / key.)"
      ],
      "metadata": {
        "id": "xZv9R8I8ZWvt"
      }
    },
    {
      "cell_type": "code",
      "source": [
        "# This is a comment in Python\n",
        "x = 10 # this is also a comment"
      ],
      "metadata": {
        "id": "7UJmbmmTaFx9"
      },
      "execution_count": 3,
      "outputs": []
    },
    {
      "cell_type": "code",
      "source": [
        "x1 = x * 10\n",
        "x2 = x + 5\n",
        "\n",
        "#print(x1) # Print the value of x1\n",
        "# print(x1, x2) # Print the values of x1 and x2"
      ],
      "metadata": {
        "id": "Ivc72tB0X_TS"
      },
      "execution_count": 4,
      "outputs": []
    },
    {
      "cell_type": "code",
      "source": [
        "print(y)\n",
        "y1 = y + \"Welcome to the class.\"\n",
        "z1 = z + [3,2,1]\n",
        " \n",
        "print(y1,z1)"
      ],
      "metadata": {
        "id": "cxePqv-52RU0",
        "outputId": "dbc8de31-2ccb-4d57-f8ff-dd837d412f6e",
        "colab": {
          "base_uri": "https://localhost:8080/"
        }
      },
      "execution_count": 9,
      "outputs": [
        {
          "output_type": "stream",
          "name": "stdout",
          "text": [
            "Hello, class!\n",
            "Hello, class!Welcome to the class. [1, 2, 3, 3, 2, 1]\n"
          ]
        }
      ]
    },
    {
      "cell_type": "markdown",
      "source": [
        "Input types:\n",
        "\n",
        "* integer: e.g., -3, 1, 0, 234, etc.\n",
        "* float: e.g., -3.0, 1.2, 0, 3.141592653589793238, etc.\n",
        "* string: (characters) \"1\", '0', \"3.29\", \"Mary\", \"euphoria\", 'My name is Jane.'\n",
        "\n",
        "_Note:_ double or single quotation marks denote **string** data. (Open and close should match.)"
      ],
      "metadata": {
        "id": "4zDbyBHbeQsq"
      }
    },
    {
      "cell_type": "code",
      "source": [
        "# DIY\n",
        "x = 1\n",
        "y = 3\n",
        "z = x + y\n",
        "print(z)\n",
        "\n",
        "x1 = \"1\"\n",
        "y1 = \"3\"\n",
        "z1 = x1 + y1\n",
        "print(z1)"
      ],
      "metadata": {
        "colab": {
          "base_uri": "https://localhost:8080/"
        },
        "id": "yzZuC29QfP3T",
        "outputId": "b6235d03-d0be-4fc3-85c0-85b6e81114e1"
      },
      "execution_count": 10,
      "outputs": [
        {
          "output_type": "stream",
          "name": "stdout",
          "text": [
            "4\n",
            "13\n"
          ]
        }
      ]
    },
    {
      "cell_type": "code",
      "source": [
        "type(z)"
      ],
      "metadata": {
        "colab": {
          "base_uri": "https://localhost:8080/"
        },
        "id": "qwDb8cf5fkKi",
        "outputId": "9c3db1b2-249f-43e7-f855-4c2f6a3e7b95"
      },
      "execution_count": 11,
      "outputs": [
        {
          "output_type": "execute_result",
          "data": {
            "text/plain": [
              "int"
            ]
          },
          "metadata": {},
          "execution_count": 11
        }
      ]
    },
    {
      "cell_type": "markdown",
      "source": [
        "int : 숫자"
      ],
      "metadata": {
        "id": "4i-PT5ERX7Qe"
      }
    },
    {
      "cell_type": "code",
      "source": [
        "type(z1)"
      ],
      "metadata": {
        "colab": {
          "base_uri": "https://localhost:8080/"
        },
        "id": "L7sxvSaOfsOt",
        "outputId": "026b581e-f026-4515-f351-a9c5436e2216"
      },
      "execution_count": 12,
      "outputs": [
        {
          "output_type": "execute_result",
          "data": {
            "text/plain": [
              "str"
            ]
          },
          "metadata": {},
          "execution_count": 12
        }
      ]
    },
    {
      "cell_type": "markdown",
      "source": [
        "str : 문자열"
      ],
      "metadata": {
        "id": "mlNU1vhAX2vm"
      }
    },
    {
      "cell_type": "code",
      "source": [
        "print(type(z), type(z1))"
      ],
      "metadata": {
        "colab": {
          "base_uri": "https://localhost:8080/"
        },
        "id": "bbFaL_GWfwMH",
        "outputId": "2911b047-9cf6-48e3-c40d-02cf7b32e5ac"
      },
      "execution_count": 13,
      "outputs": [
        {
          "output_type": "stream",
          "name": "stdout",
          "text": [
            "<class 'int'> <class 'str'>\n"
          ]
        }
      ]
    },
    {
      "cell_type": "markdown",
      "source": [
        "## [2] Operators\n",
        "\n",
        "* Symbols that perform operations on values and variables. \n",
        "* They are used to perform arithmetic and logical operations, and they can also be used to manipulate and compare values. "
      ],
      "metadata": {
        "id": "5JgA2T2dRft5"
      }
    },
    {
      "cell_type": "markdown",
      "source": [
        "1. Arithmetic Operators: +, -, *, /, %, ** (for exponentiation)\n",
        "2. semicolon ';' - separate multiple statements (code lines) on a single line."
      ],
      "metadata": {
        "id": "NJBgu_O4bczL"
      }
    },
    {
      "cell_type": "code",
      "source": [
        "x = 2; y = 5\n",
        "\n",
        "a1 = x + y\n",
        "a2 = x - y\n",
        "a3 = x * y\n",
        "a4 = x / y\n",
        "a5 = x ** y"
      ],
      "metadata": {
        "id": "dXT3pIzobUHU"
      },
      "execution_count": 14,
      "outputs": []
    },
    {
      "cell_type": "code",
      "source": [
        "print(a1, a2, a3, a4, a5)"
      ],
      "metadata": {
        "colab": {
          "base_uri": "https://localhost:8080/"
        },
        "id": "_m3JBsOKd6Uv",
        "outputId": "5ff61ad8-495f-409f-f9cf-4402e710780e"
      },
      "execution_count": null,
      "outputs": [
        {
          "output_type": "stream",
          "name": "stdout",
          "text": [
            "7 -3 10 0.4 32\n"
          ]
        }
      ]
    },
    {
      "cell_type": "code",
      "source": [
        "print(\"The value of a1:\", a1)"
      ],
      "metadata": {
        "colab": {
          "base_uri": "https://localhost:8080/"
        },
        "id": "5kq7I3nMd0Xi",
        "outputId": "d2b23cf4-6ce2-4cb8-809d-97db736c82bb"
      },
      "execution_count": null,
      "outputs": [
        {
          "output_type": "stream",
          "name": "stdout",
          "text": [
            "The value of a1: 7\n"
          ]
        }
      ]
    },
    {
      "cell_type": "markdown",
      "source": [
        "# 🌱 Define a function\n",
        "\n",
        "Demo 🔢 Calculator"
      ],
      "metadata": {
        "id": "Cx1NyWUAybc8"
      }
    },
    {
      "cell_type": "code",
      "source": [
        "# This function adds two numbers\n",
        "def add(x, y):\n",
        "    return x + y\n",
        "\n",
        "# This function subtracts two numbers\n",
        "def subtract(x, y):\n",
        "    return x - y\n",
        "\n",
        "# This function multiplies two numbers\n",
        "def multiply(x, y):\n",
        "    return x * y\n",
        "\n",
        "# This function divides two numbers\n",
        "def divide(x, y):\n",
        "    return x / y\n"
      ],
      "metadata": {
        "id": "Dod3_zgYdsWe"
      },
      "execution_count": 15,
      "outputs": []
    },
    {
      "cell_type": "markdown",
      "source": [
        "def : 함수 정의 \n",
        "def 뒤에 오는 것은 함수 이름\n"
      ],
      "metadata": {
        "id": "C-MvIgh_YjCv"
      }
    },
    {
      "cell_type": "code",
      "source": [
        "# DIY: define a function names switch(x, y), where the input x, y changes its position in the output.\n",
        "def switch(x,y):\n",
        "  return print(y,x)"
      ],
      "metadata": {
        "id": "W9CuAaqXgwb5"
      },
      "execution_count": 16,
      "outputs": []
    },
    {
      "cell_type": "code",
      "source": [
        "switch(\"it\",\"is\")"
      ],
      "metadata": {
        "id": "jgJXNvb8aFfn",
        "outputId": "6ca73990-94d9-4dff-bad4-1334f4270323",
        "colab": {
          "base_uri": "https://localhost:8080/"
        }
      },
      "execution_count": 21,
      "outputs": [
        {
          "output_type": "stream",
          "name": "stdout",
          "text": [
            "is it\n"
          ]
        }
      ]
    },
    {
      "cell_type": "code",
      "source": [
        "add(1200,34)"
      ],
      "metadata": {
        "id": "br8NXBwtMpMI",
        "outputId": "ca5193ea-4c82-4a8e-baa2-151a1c6d78d4",
        "colab": {
          "base_uri": "https://localhost:8080/"
        }
      },
      "execution_count": null,
      "outputs": [
        {
          "output_type": "execute_result",
          "data": {
            "text/plain": [
              "1234"
            ]
          },
          "metadata": {},
          "execution_count": 25
        }
      ]
    },
    {
      "cell_type": "code",
      "source": [
        "# Test\n",
        "\n",
        "add(2,3)\n",
        "subtract(3,2)\n",
        "multiply(2,3)\n",
        "divide(3,2)"
      ],
      "metadata": {
        "id": "IoHh-U2GBsqH",
        "outputId": "95b74b11-dca8-4989-8007-de256f61deef",
        "colab": {
          "base_uri": "https://localhost:8080/"
        }
      },
      "execution_count": null,
      "outputs": [
        {
          "output_type": "execute_result",
          "data": {
            "text/plain": [
              "1.5"
            ]
          },
          "metadata": {},
          "execution_count": 29
        }
      ]
    },
    {
      "cell_type": "markdown",
      "source": [
        "## Using dropbox format"
      ],
      "metadata": {
        "id": "eOluPoNqCCE1"
      }
    },
    {
      "cell_type": "code",
      "source": [
        "#@markdown 🔄 Making functions: tts('text')\n",
        "%%capture\n",
        "!pip install gTTS\n",
        "from gtts import gTTS\n",
        "from IPython.display import Audio\n",
        "\n",
        "def tts(text):\n",
        "  text_to_say = text\n",
        "\n",
        "  gtts_object = gTTS(text = text_to_say,\n",
        "                     lang = \"en\", tld = \"us\",\n",
        "                    slow = True)\n",
        "  \n",
        "  gtts_object.save(\"E-audio.mp3\")\n",
        "  return Audio(\"E-audio.mp3\")"
      ],
      "metadata": {
        "id": "nRtyN0p6NoKA"
      },
      "execution_count": 22,
      "outputs": []
    },
    {
      "cell_type": "code",
      "source": [
        "func = \"subtract\" #@param = [\"add\",\"subtract\",\"multiply\",\"divide\"]\n",
        "digits = input(\"Type two numbers: (e.g., 3,4)\")\n",
        "digitsplit = digits.split(',')\n",
        "d1 = int(digitsplit[0])\n",
        "d2 = int(digitsplit[1])\n",
        "\n",
        "if func == \"add\":\n",
        "  result = add(d1,d2)\n",
        "  text = \"The addition of %d and %d equals %d.\"%(d1,d2,result)\n",
        "elif func == \"subtract\":\n",
        "  result = subtract(d1,d2)\n",
        "  text = \"If you subtract %d from %d, you get %d.\"%(d2,d1,result)\n",
        "elif func == \"divide\":\n",
        "  result = divide(d1,d2)\n",
        "  text = \"When you divide %d by %d, you get %d.\"%(d1,d2,result)\n",
        "elif func == \"multiply\":\n",
        "  result = multiply(d1,d2)\n",
        "  text = \"%d multiplied by %d is %d.\"%(d1,d2,result)\n",
        "\n",
        "print(text)\n",
        "tts(text)\n",
        "Audio(\"E-audio.mp3\", autoplay = True)"
      ],
      "metadata": {
        "id": "FT47bY6qBo3k",
        "outputId": "4648d911-af5f-4dab-d2fb-d1fa5f3f6471",
        "colab": {
          "base_uri": "https://localhost:8080/",
          "height": 111
        }
      },
      "execution_count": 28,
      "outputs": [
        {
          "output_type": "stream",
          "name": "stdout",
          "text": [
            "Type two numbers: (e.g., 3,4)12345,12344\n",
            "If you subtract 12344 from 12345, you get 1.\n"
          ]
        },
        {
          "output_type": "execute_result",
          "data": {
            "text/plain": [
              "<IPython.lib.display.Audio object>"
            ],
            "text/html": [
              "\n",
              "                <audio  controls=\"controls\" autoplay=\"autoplay\">\n",
              "                    <source src=\"data:audio/mpeg;base64,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\" type=\"audio/mpeg\" />\n",
              "                    Your browser does not support the audio element.\n",
              "                </audio>\n",
              "              "
            ]
          },
          "metadata": {},
          "execution_count": 28
        }
      ]
    },
    {
      "cell_type": "markdown",
      "source": [
        "audioplay = True 하면 자동재생\n"
      ],
      "metadata": {
        "id": "fMRhfNzEbsWn"
      }
    },
    {
      "cell_type": "markdown",
      "source": [
        "More operators: <br>\n",
        "* Comparison Operators: ==, !=, <, >, <=, >= <br>\n",
        "* Assignment Operators: =, +=, -=, *=, /=, %= <br>\n",
        "* Logical Operators: and, or, not <br>\n",
        "* Identity Operators: is, is not <br>\n",
        "* Membership Operators: in, not in "
      ],
      "metadata": {
        "id": "sfubu24UbqjH"
      }
    },
    {
      "cell_type": "markdown",
      "source": [
        "# 📗Topic [3] Data types: number, string, list and dictionary\n"
      ],
      "metadata": {
        "id": "3eSrUoglRh6-"
      }
    },
    {
      "cell_type": "markdown",
      "source": [
        "\n",
        "|Data type| |\n",
        "|:--:|:--:|\n",
        "|number|int, float|\n",
        "|string|charcter|\n",
        "|list|[1, 2,4], ['Mary','Tom','Jane'|\n",
        "|dictionary|(key: value), [('English': 80), ('Korean':90)]|\n",
        "|tuple|('zero', 0)|\n"
      ],
      "metadata": {
        "id": "ZVFb5JmJrPXu"
      }
    },
    {
      "cell_type": "code",
      "source": [
        "a1 = 3   # a1 is integer\n",
        "a2 = 3.0 # a2 is float\n",
        "a3 = \"3\" # a3 is string\n",
        "\n",
        "type(a1); type(a2); type(a3)\n",
        "#print(type(a1), type(a2), type(a3))"
      ],
      "metadata": {
        "colab": {
          "base_uri": "https://localhost:8080/"
        },
        "id": "g-kvldqENA1e",
        "outputId": "798a2b8d-10bf-4d86-a4e0-c09623d0b319"
      },
      "execution_count": 29,
      "outputs": [
        {
          "output_type": "execute_result",
          "data": {
            "text/plain": [
              "str"
            ]
          },
          "metadata": {},
          "execution_count": 29
        }
      ]
    },
    {
      "cell_type": "markdown",
      "source": [
        "list and index (0, 1, 2,...)"
      ],
      "metadata": {
        "id": "HC_wMsPnNbzs"
      }
    },
    {
      "cell_type": "code",
      "source": [
        "a = [1, \"Mary\", 4, \"John\"]  # This is a list.\n",
        "print(type(a))\n",
        "\n",
        "a+a"
      ],
      "metadata": {
        "colab": {
          "base_uri": "https://localhost:8080/"
        },
        "id": "LyTw7phONZHE",
        "outputId": "3260bc00-4d8e-4fc9-d0cf-e4ade7f115f8"
      },
      "execution_count": 31,
      "outputs": [
        {
          "output_type": "stream",
          "name": "stdout",
          "text": [
            "<class 'list'>\n"
          ]
        },
        {
          "output_type": "execute_result",
          "data": {
            "text/plain": [
              "[1, 'Mary', 4, 'John', 1, 'Mary', 4, 'John']"
            ]
          },
          "metadata": {},
          "execution_count": 31
        }
      ]
    },
    {
      "cell_type": "markdown",
      "source": [
        "* index: Python index starts from '0'\n",
        "\n",
        "e.g., a = [1, 2, 3, 4]"
      ],
      "metadata": {
        "id": "-fL-pJvj7NW8"
      }
    },
    {
      "cell_type": "code",
      "source": [
        "# a[0]\n",
        "# type(a[0])\n",
        "# type(a[1])\n",
        "# a[0] + a[2]\n",
        "# a[0] + a[1] # int + str = error"
      ],
      "metadata": {
        "id": "9Z5zLDGc7X13"
      },
      "execution_count": 33,
      "outputs": []
    },
    {
      "cell_type": "markdown",
      "source": [
        "[Github accounts](https://raw.githubusercontent.com/MK316/Spring2023/main/DL/files/DL_github.csv)"
      ],
      "metadata": {
        "id": "S-KG49Zaim0S"
      }
    },
    {
      "cell_type": "markdown",
      "source": [
        "\n",
        "\n",
        "---\n",
        "# The End\n"
      ],
      "metadata": {
        "id": "3cZjH9xIiN4_"
      }
    }
  ]
}