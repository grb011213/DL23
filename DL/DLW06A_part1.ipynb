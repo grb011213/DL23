{
  "nbformat": 4,
  "nbformat_minor": 0,
  "metadata": {
    "colab": {
      "provenance": [],
      "include_colab_link": true
    },
    "kernelspec": {
      "name": "python3",
      "display_name": "Python 3"
    },
    "language_info": {
      "name": "python"
    }
  },
  "cells": [
    {
      "cell_type": "markdown",
      "metadata": {
        "id": "view-in-github",
        "colab_type": "text"
      },
      "source": [
        "<a href=\"https://colab.research.google.com/github/grb011213/DL23/blob/main/DL/DLW06A_part1.ipynb\" target=\"_parent\"><img src=\"https://colab.research.google.com/assets/colab-badge.svg\" alt=\"Open In Colab\"/></a>"
      ]
    },
    {
      "cell_type": "markdown",
      "source": [
        "# 🌀**DLW06A Part I (4/12)** Coding and Language games"
      ],
      "metadata": {
        "id": "_mbT_YJKGkm-"
      }
    },
    {
      "cell_type": "markdown",
      "source": [
        "# 💕 Goal: Creating an app similar to **_Word Guessing Game from Hints_**\n",
        "\n",
        "We will be spending 2 weeks to get this go."
      ],
      "metadata": {
        "id": "ppmHMRdisMiv"
      }
    },
    {
      "cell_type": "markdown",
      "source": [
        "##💦 **Demo 1: Making a word quiz.**"
      ],
      "metadata": {
        "id": "MWpQZGE5wZgt"
      }
    },
    {
      "cell_type": "code",
      "source": [
        "#@markdown Run this code to see guesiong game\n",
        "import random\n",
        "\n",
        "# Define a dictionary of words and their hints\n",
        "word_hints = {\n",
        "    \"suprasegmental\": [\n",
        "        \"This term is related to the features of speech that go beyond individual sounds.\",\n",
        "        \"It is often associated with intonation, stress, and timing.\",\n",
        "        \"Examples include pitch, tone, and stress patterns.\",\n",
        "        \"The answer begins with 's'.\"\n",
        "    ],\n",
        "    \"geminate\": [\n",
        "        \"This term is related to a specific type of consonant.\",\n",
        "        \"It refers to a consonant that is pronounced for a longer duration than its regular counterpart.\",\n",
        "        \"In some languages, it can be represented by doubling the consonant in writing.\",\n",
        "        \"The answer begins with 'g'.\"\n",
        "    ],\n",
        "    \"syllable\": [\n",
        "        \"This term is related to a unit of speech.\",\n",
        "        \"It is a sequence of speech sounds, typically consisting of a vowel and any surrounding consonants.\",\n",
        "        \"A word can have one or multiple of these units.\",\n",
        "        \"The answer begins with 's'.\"\n",
        "    ]\n",
        "}\n",
        "\n",
        "# Define guessing game\n",
        "\n",
        "def guessing_game(word_hints):\n",
        "    words = list(word_hints.keys())\n",
        "    random.shuffle(words)\n",
        "\n",
        "    for word in words:\n",
        "        print(\"\\nGuess the word based on the following hints:\")\n",
        "        hints = word_hints[word]\n",
        "        attempts = 0\n",
        "\n",
        "        while attempts < len(hints):\n",
        "            print(f\"Hint {attempts + 1}: {hints[attempts]}\")\n",
        "            guess = input(\"Your guess: \").strip().lower()\n",
        "\n",
        "            if guess == word.lower():\n",
        "                print(\"Congratulations! You guessed the correct word!\\n\")\n",
        "                break\n",
        "            else:\n",
        "                print(\"Incorrect. Try again with another hint.\\n\")\n",
        "                attempts += 1\n",
        "\n",
        "        if attempts == len(hints):\n",
        "            print(f\"Sorry, you've run out of hints. The correct word was: {word}\\n\")\n",
        "\n",
        "# Using this conditional structure is a common practice in Python to allow a script to be both executed as a standalone program and imported as a module in other scripts without immediately running the code within the script.\n",
        "if __name__ == \"__main__\":\n",
        "  guessing_game(word_hints)"
      ],
      "metadata": {
        "cellView": "form",
        "id": "68fDLUnZs8KF",
        "outputId": "8ba0f870-5b57-4b30-cc75-f371337393d5",
        "colab": {
          "base_uri": "https://localhost:8080/"
        }
      },
      "execution_count": 1,
      "outputs": [
        {
          "output_type": "stream",
          "name": "stdout",
          "text": [
            "\n",
            "Guess the word based on the following hints:\n",
            "Hint 1: This term is related to the features of speech that go beyond individual sounds.\n",
            "Your guess: Segments\n",
            "Incorrect. Try again with another hint.\n",
            "\n",
            "Hint 2: It is often associated with intonation, stress, and timing.\n",
            "Your guess: ??\n",
            "Incorrect. Try again with another hint.\n",
            "\n",
            "Hint 3: Examples include pitch, tone, and stress patterns.\n",
            "Your guess: .\n",
            "Incorrect. Try again with another hint.\n",
            "\n",
            "Hint 4: The answer begins with 's'.\n",
            "Your guess: s\n",
            "Incorrect. Try again with another hint.\n",
            "\n",
            "Sorry, you've run out of hints. The correct word was: suprasegmental\n",
            "\n",
            "\n",
            "Guess the word based on the following hints:\n",
            "Hint 1: This term is related to a specific type of consonant.\n",
            "Your guess: d\n",
            "Incorrect. Try again with another hint.\n",
            "\n",
            "Hint 2: It refers to a consonant that is pronounced for a longer duration than its regular counterpart.\n",
            "Your guess: d\n",
            "Incorrect. Try again with another hint.\n",
            "\n",
            "Hint 3: In some languages, it can be represented by doubling the consonant in writing.\n",
            "Your guess: d\n",
            "Incorrect. Try again with another hint.\n",
            "\n",
            "Hint 4: The answer begins with 'g'.\n",
            "Your guess: g\n",
            "Incorrect. Try again with another hint.\n",
            "\n",
            "Sorry, you've run out of hints. The correct word was: geminate\n",
            "\n",
            "\n",
            "Guess the word based on the following hints:\n",
            "Hint 1: This term is related to a unit of speech.\n",
            "Your guess: d\n",
            "Incorrect. Try again with another hint.\n",
            "\n",
            "Hint 2: It is a sequence of speech sounds, typically consisting of a vowel and any surrounding consonants.\n",
            "Your guess: segment\n",
            "Incorrect. Try again with another hint.\n",
            "\n",
            "Hint 3: A word can have one or multiple of these units.\n",
            "Your guess: s\n",
            "Incorrect. Try again with another hint.\n",
            "\n",
            "Hint 4: The answer begins with 's'.\n",
            "Your guess: segments\n",
            "Incorrect. Try again with another hint.\n",
            "\n",
            "Sorry, you've run out of hints. The correct word was: syllable\n",
            "\n"
          ]
        }
      ]
    },
    {
      "cell_type": "markdown",
      "source": [
        "##💦**Demo 2: Convert a statement to a yes-no question**"
      ],
      "metadata": {
        "id": "DKwjeU8pW-iu"
      }
    },
    {
      "cell_type": "code",
      "source": [
        "#@markdown Install and import libraries\n",
        "%%capture\n",
        "!pip install gtts\n",
        "!pip install IPython\n",
        "from gtts import gTTS\n",
        "from IPython.display import Audio, display\n",
        "\n",
        "#@markdown etts(), ktts()\n",
        "def etts(text):\n",
        "  text_to_say = text\n",
        "\n",
        "  gtts_object = gTTS(text = text_to_say,\n",
        "                     lang = \"en\",\n",
        "                    slow = False)\n",
        "  \n",
        "  gtts_object.save(\"E-audio.mp3\")\n",
        "  return Audio(\"E-audio.mp3\")\n",
        "\n",
        "def ktts(text):\n",
        "  text_to_say = text\n",
        "\n",
        "  gtts_object = gTTS(text = text_to_say,\n",
        "                     lang = \"ko\",\n",
        "                    slow = False)\n",
        "  \n",
        "  gtts_object.save(\"K-audio.mp3\")\n",
        "  return Audio(\"K-audio.mp3\")"
      ],
      "metadata": {
        "cellView": "form",
        "id": "TajMEehr8_7D"
      },
      "execution_count": 2,
      "outputs": []
    },
    {
      "cell_type": "markdown",
      "source": [
        "---\n",
        "### Complete version with some restriction \n",
        "\n",
        "1. The statement you're entering must contain a be-verb.\n",
        "2. If you use a proper noun as a subject, restrict it to one of the followings: \n",
        "\n",
        "> **Male: Tom, Thomas, Bill**\n",
        "\n",
        "> **Female: Mary, Jane, Jessica**\n",
        "\n",
        "2. Must contain a punctuation(.)\n",
        "---"
      ],
      "metadata": {
        "id": "5XYJaX2IDrOu"
      }
    },
    {
      "cell_type": "code",
      "source": [
        "#@markdown Statment to a Yes-No question (Audio autoplay)\n",
        "sentence = input(\"Type a sentence containing a be verb: e.g., I am a students.\\n\")\n",
        "beverbs = [\"is\", \"was\", \"are\", \"were\"]\n",
        "pronouns = [\"I\",\"You\",\"He\",\"She\",\"They\",\"It\"]\n",
        "names = [\"Mary\", \"Jane\", \"Tom\",\"Thomas\",\"Jessica\", \"Bill\"]\n",
        "\n",
        "def check_word(list_A, list_B):\n",
        "    for a in list_A:\n",
        "        for b in list_B:\n",
        "            if b in a:\n",
        "                mword = a\n",
        "                return True, mword\n",
        "    return False, None\n",
        "\n",
        "\n",
        "cat1 = sentence.split()\n",
        "\n",
        "result = check_word(cat1,beverbs)\n",
        "\n",
        "if result[0] == True:\n",
        "  if cat1[0] in pronouns:\n",
        "      b = result[1]\n",
        "      be = \" \"+b+\" \"\n",
        "      ss = sentence.split(be)\n",
        "      subj = ss[0]\n",
        "      nsubj = subj[0].lower()+subj[1:]\n",
        "      pred = ss[1]\n",
        "      w1 = b[0].upper() + b[1:] # Capitalized be verb\n",
        "      newsent = w1 + \" \" + nsubj + \" \" + pred[:-1] + \"?\"\n",
        "      mytext = \"I'll make it to a yes-no question: \" + newsent\n",
        "      print(\"Yes-no question: \", newsent)\n",
        "  elif cat1[0] not in pronouns and cat1[0] in names:\n",
        "        b = result[1]\n",
        "        be = \" \"+b+\" \"\n",
        "        ss = sentence.split(be)\n",
        "        subj = ss[0]\n",
        "        pred = ss[1]\n",
        "        w1 = b[0].upper() + b[1:] # Capitalized be verb\n",
        "        newsent = w1 + \" \" + subj + \" \" + pred[:-1] + \"?\"\n",
        "        mytext = \"I'll make it to a yes-no question: \" + newsent\n",
        "        print(\"Yes-no question: \", newsent)\n",
        "  elif cat1[0] not in pronouns and cat1[0] not in names:\n",
        "        b = result[1]\n",
        "        be = \" \"+b+\" \"\n",
        "        ss = sentence.split(be)\n",
        "        subj = ss[0]\n",
        "        nsubj = subj[0].lower()+subj[1:]\n",
        "        pred = ss[1]\n",
        "        w1 = b[0].upper() + b[1:] # Capitalized be verb\n",
        "        newsent = w1 + \" \" + nsubj + \" \" + pred[:-1] + \"?\"\n",
        "        mytext = \"I'll make it to a yes-no question: \" + newsent\n",
        "        print(\"Yes-no question: \", newsent)\n",
        "\n",
        "else:\n",
        "    mytext = \"The sentence you\\' provided does not contain a 'Be' verb. Try again.\"\n",
        "    print(\"Type a sentence that contains a be verb.\")\n",
        "\n",
        "etts(mytext)\n",
        "Audio(\"E-audio.mp3\",autoplay=True)"
      ],
      "metadata": {
        "cellView": "form",
        "id": "ZjPSWFub-55P",
        "outputId": "5f8e1ac0-e11a-4d46-a583-5538f51639c7",
        "colab": {
          "base_uri": "https://localhost:8080/",
          "height": 129
        }
      },
      "execution_count": 7,
      "outputs": [
        {
          "output_type": "stream",
          "name": "stdout",
          "text": [
            "Type a sentence containing a be verb: e.g., I am a students.\n",
            "Sunhyeong is the most beautiful girl in the class.\n",
            "Yes-no question:  Is sunhyeong the most beautiful girl in the class?\n"
          ]
        },
        {
          "output_type": "execute_result",
          "data": {
            "text/plain": [
              "<IPython.lib.display.Audio object>"
            ],
            "text/html": [
              "\n",
              "                <audio  controls=\"controls\" autoplay=\"autoplay\">\n",
              "                    <source src=\"data:audio/mpeg;base64,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\" type=\"audio/mpeg\" />\n",
              "                    Your browser does not support the audio element.\n",
              "                </audio>\n",
              "              "
            ]
          },
          "metadata": {},
          "execution_count": 7
        }
      ]
    },
    {
      "cell_type": "markdown",
      "source": [
        "## 💦**Demo 3: Story game**"
      ],
      "metadata": {
        "id": "UG0_f0gJQl1r"
      }
    },
    {
      "cell_type": "code",
      "source": [
        "#@markdown Adventure game with reading\n",
        "print(\"Welcome to the adventure game!\")\n",
        "print(\"=\"*50)\n",
        "print(\"You are a high school student who has been chosen to embark on a quest to save your town from a mysterious curse.\")\n",
        "print(\"You will face various challenges and choices along the way, and your decisions will determine the outcome of the story.\")\n",
        "print(\"=\"*50)\n",
        "name = input(\"What is your name? \")\n",
        "print(\"=\"*50)\n",
        "print(f\"Nice to meet you, {name}! Are you ready to begin?\")\n",
        "print(\"=\"*50)\n",
        "# Start of the story\n",
        "print(\"You wake up one morning to find that your town is covered in a thick fog.\")\n",
        "print(\"People are starting to get sick, and strange things are happening.\")\n",
        "print(\"You decide to investigate and find out that a curse has been cast upon the town.\")\n",
        "print(\"You meet a wise old sage who tells you that the only way to lift the curse is to find a magical artifact that is hidden in a dangerous dungeon.\")\n",
        "print(\"=\"*50)\n",
        "# First choice\n",
        "print(\"You have two options:\")\n",
        "print(\"Option 1: Search for clues in the town.\")\n",
        "print(\"Option 2: Go straight to the dungeon.\")\n",
        "print(\"=\"*50)\n",
        "choice = input(\"Which option do you choose? (1 or 2) \")\n",
        "print(\"=\"*50)\n",
        "if choice == \"1\":\n",
        "    print(\"You spend the day talking to townspeople and searching for clues.\")\n",
        "    print(\"You find a cryptic message that leads you to a hidden cave.\")\n",
        "elif choice == \"2\":\n",
        "    print(\"You journey to the dungeon and face many dangers along the way.\")\n",
        "    print(\"You eventually reach the entrance to the dungeon.\")\n",
        "print(\"=\"*50)\n",
        "# Second choice\n",
        "print(\"You have two options:\")\n",
        "print(\"Option 1: Enter the cave.\")\n",
        "print(\"Option 2: Enter the dungeon.\")\n",
        "print(\"=\"*50)\n",
        "choice = input(\"Which option do you choose? (1 or 2) \")\n",
        "print(\"=\"*50)\n",
        "if choice == \"1\":\n",
        "    print(\"=\"*50)\n",
        "    print(\"You enter the cave and find the magical artifact!\")\n",
        "    print(\"You bring it back to the town and the curse is lifted.\")\n",
        "    print(\"Congratulations! You have saved the town!\")\n",
        "    print(\"=\"*50)\n",
        "elif choice == \"2\":\n",
        "    print(\"=\"*50)\n",
        "    print(\"You enter the dungeon and face many challenges.\")\n",
        "    print(\"You eventually find the magical artifact, but it is guarded by a powerful monster.\")\n",
        "    print(\"You must defeat the monster to retrieve the artifact.\")\n",
        "    print(\"You engage in a fierce battle!\")\n",
        "    print(\"You lost the battle and the curse remains.\")\n",
        "    print(\"Brave You! Though the curse remains, people appreicate your effort.\")\n",
        "    print(\"=\"*50)\n"
      ],
      "metadata": {
        "cellView": "form",
        "id": "qBAUNW9qP75J",
        "outputId": "7c64ec82-7cbc-43ec-afb9-a6384221de03",
        "colab": {
          "base_uri": "https://localhost:8080/"
        }
      },
      "execution_count": 8,
      "outputs": [
        {
          "output_type": "stream",
          "name": "stdout",
          "text": [
            "Welcome to the adventure game!\n",
            "==================================================\n",
            "You are a high school student who has been chosen to embark on a quest to save your town from a mysterious curse.\n",
            "You will face various challenges and choices along the way, and your decisions will determine the outcome of the story.\n",
            "==================================================\n",
            "What is your name? Jacob\n",
            "==================================================\n",
            "Nice to meet you, Jacob! Are you ready to begin?\n",
            "==================================================\n",
            "You wake up one morning to find that your town is covered in a thick fog.\n",
            "People are starting to get sick, and strange things are happening.\n",
            "You decide to investigate and find out that a curse has been cast upon the town.\n",
            "You meet a wise old sage who tells you that the only way to lift the curse is to find a magical artifact that is hidden in a dangerous dungeon.\n",
            "==================================================\n",
            "You have two options:\n",
            "Option 1: Search for clues in the town.\n",
            "Option 2: Go straight to the dungeon.\n",
            "==================================================\n",
            "Which option do you choose? (1 or 2) 2\n",
            "==================================================\n",
            "You journey to the dungeon and face many dangers along the way.\n",
            "You eventually reach the entrance to the dungeon.\n",
            "==================================================\n",
            "You have two options:\n",
            "Option 1: Enter the cave.\n",
            "Option 2: Enter the dungeon.\n",
            "==================================================\n",
            "Which option do you choose? (1 or 2) 2\n",
            "==================================================\n",
            "==================================================\n",
            "You enter the dungeon and face many challenges.\n",
            "You eventually find the magical artifact, but it is guarded by a powerful monster.\n",
            "You must defeat the monster to retrieve the artifact.\n",
            "You engage in a fierce battle!\n",
            "You lost the battle and the curse remains.\n",
            "Brave You! Though the curse remains, people appreicate your effort.\n",
            "==================================================\n"
          ]
        }
      ]
    },
    {
      "cell_type": "code",
      "source": [
        "#@markdown Story game with listening (audio)\n",
        "from gtts import gTTS\n",
        "import IPython.display as ipd\n",
        "\n",
        "def play_audio(text):\n",
        "    language = 'en'\n",
        "    audio = gTTS(text=text, lang=language, slow=False)\n",
        "    audio.save(\"audio.mp3\")\n",
        "    ipd.display(ipd.Audio(\"audio.mp3\", autoplay=True))\n",
        "\n",
        "# Introduction\n",
        "play_audio(\"Welcome to the story game. You are walking home from school when you hear footsteps behind you. You look back and see a shady figure in the distance. What do you do?\")\n",
        "ipd.clear_output(wait=True)\n",
        "input(\"Press Enter to continue...\")\n",
        "\n",
        "# Stage 1\n",
        "play_audio(\"You decide to run. Do you run towards the park or towards the busy street?\")\n",
        "ipd.clear_output(wait=True)\n",
        "choice = input(\"Enter 1 to run towards the park, or 2 to run towards the busy street: \")\n",
        "if choice == \"1\":\n",
        "    play_audio(\"You run towards the park and manage to lose the shady figure. You continue walking home and make it back safely.\")\n",
        "elif choice == \"2\":\n",
        "    play_audio(\"You run towards the busy street, hoping to find someone to help you. As you get closer, you realize that the figure is a police officer. You stop and explain what happened, and the officer escorts you home safely.\")\n",
        "ipd.clear_output(wait=True)\n",
        "input(\"Press Enter to continue...\")\n",
        "\n",
        "# Stage 2\n",
        "play_audio(\"You arrive home and find that your front door is slightly open. Do you go inside or call the police?\")\n",
        "ipd.clear_output(wait=True)\n",
        "choice = input(\"Enter 1 to go inside, or 2 to call the police: \")\n",
        "if choice == \"1\":\n",
        "    play_audio(\"You cautiously enter your home and find that everything is as you left it. You breathe a sigh of relief and go about your evening.\")\n",
        "elif choice == \"2\":\n",
        "    play_audio(\"You call the police and they arrive shortly after. They search your home and find no one inside. You spend the night at a friend's house and return home the next day.\")\n",
        "ipd.clear_output(wait=True)\n",
        "input(\"Press Enter to continue...\")\n",
        "\n",
        "# Conclusion\n",
        "play_audio(\"Good choice! you have successfully made it home safely. Thanks for playing!\")\n",
        "ipd.clear_output(wait=True)\n"
      ],
      "metadata": {
        "cellView": "form",
        "id": "mx_BDEl-TqLe",
        "outputId": "be111adc-dee0-40ac-a40a-61ae26a67dfa",
        "colab": {
          "base_uri": "https://localhost:8080/",
          "height": 400
        }
      },
      "execution_count": 10,
      "outputs": [
        {
          "output_type": "error",
          "ename": "KeyboardInterrupt",
          "evalue": "ignored",
          "traceback": [
            "\u001b[0;31m---------------------------------------------------------------------------\u001b[0m",
            "\u001b[0;31mKeyboardInterrupt\u001b[0m                         Traceback (most recent call last)",
            "\u001b[0;32m<ipython-input-10-8cc5e82b49df>\u001b[0m in \u001b[0;36m<cell line: 14>\u001b[0;34m()\u001b[0m\n\u001b[1;32m     12\u001b[0m \u001b[0mplay_audio\u001b[0m\u001b[0;34m(\u001b[0m\u001b[0;34m\"Welcome to the story game. You are walking home from school when you hear footsteps behind you. You look back and see a shady figure in the distance. What do you do?\"\u001b[0m\u001b[0;34m)\u001b[0m\u001b[0;34m\u001b[0m\u001b[0;34m\u001b[0m\u001b[0m\n\u001b[1;32m     13\u001b[0m \u001b[0mipd\u001b[0m\u001b[0;34m.\u001b[0m\u001b[0mclear_output\u001b[0m\u001b[0;34m(\u001b[0m\u001b[0mwait\u001b[0m\u001b[0;34m=\u001b[0m\u001b[0;32mTrue\u001b[0m\u001b[0;34m)\u001b[0m\u001b[0;34m\u001b[0m\u001b[0;34m\u001b[0m\u001b[0m\n\u001b[0;32m---> 14\u001b[0;31m \u001b[0minput\u001b[0m\u001b[0;34m(\u001b[0m\u001b[0;34m\"Press Enter to continue...\"\u001b[0m\u001b[0;34m)\u001b[0m\u001b[0;34m\u001b[0m\u001b[0;34m\u001b[0m\u001b[0m\n\u001b[0m\u001b[1;32m     15\u001b[0m \u001b[0;34m\u001b[0m\u001b[0m\n\u001b[1;32m     16\u001b[0m \u001b[0;31m# Stage 1\u001b[0m\u001b[0;34m\u001b[0m\u001b[0;34m\u001b[0m\u001b[0m\n",
            "\u001b[0;32m/usr/local/lib/python3.9/dist-packages/ipykernel/kernelbase.py\u001b[0m in \u001b[0;36mraw_input\u001b[0;34m(self, prompt)\u001b[0m\n\u001b[1;32m    849\u001b[0m                 \u001b[0;34m\"raw_input was called, but this frontend does not support input requests.\"\u001b[0m\u001b[0;34m\u001b[0m\u001b[0;34m\u001b[0m\u001b[0m\n\u001b[1;32m    850\u001b[0m             )\n\u001b[0;32m--> 851\u001b[0;31m         return self._input_request(str(prompt),\n\u001b[0m\u001b[1;32m    852\u001b[0m             \u001b[0mself\u001b[0m\u001b[0;34m.\u001b[0m\u001b[0m_parent_ident\u001b[0m\u001b[0;34m,\u001b[0m\u001b[0;34m\u001b[0m\u001b[0;34m\u001b[0m\u001b[0m\n\u001b[1;32m    853\u001b[0m             \u001b[0mself\u001b[0m\u001b[0;34m.\u001b[0m\u001b[0m_parent_header\u001b[0m\u001b[0;34m,\u001b[0m\u001b[0;34m\u001b[0m\u001b[0;34m\u001b[0m\u001b[0m\n",
            "\u001b[0;32m/usr/local/lib/python3.9/dist-packages/ipykernel/kernelbase.py\u001b[0m in \u001b[0;36m_input_request\u001b[0;34m(self, prompt, ident, parent, password)\u001b[0m\n\u001b[1;32m    893\u001b[0m             \u001b[0;32mexcept\u001b[0m \u001b[0mKeyboardInterrupt\u001b[0m\u001b[0;34m:\u001b[0m\u001b[0;34m\u001b[0m\u001b[0;34m\u001b[0m\u001b[0m\n\u001b[1;32m    894\u001b[0m                 \u001b[0;31m# re-raise KeyboardInterrupt, to truncate traceback\u001b[0m\u001b[0;34m\u001b[0m\u001b[0;34m\u001b[0m\u001b[0m\n\u001b[0;32m--> 895\u001b[0;31m                 \u001b[0;32mraise\u001b[0m \u001b[0mKeyboardInterrupt\u001b[0m\u001b[0;34m(\u001b[0m\u001b[0;34m\"Interrupted by user\"\u001b[0m\u001b[0;34m)\u001b[0m \u001b[0;32mfrom\u001b[0m \u001b[0;32mNone\u001b[0m\u001b[0;34m\u001b[0m\u001b[0;34m\u001b[0m\u001b[0m\n\u001b[0m\u001b[1;32m    896\u001b[0m             \u001b[0;32mexcept\u001b[0m \u001b[0mException\u001b[0m \u001b[0;32mas\u001b[0m \u001b[0me\u001b[0m\u001b[0;34m:\u001b[0m\u001b[0;34m\u001b[0m\u001b[0;34m\u001b[0m\u001b[0m\n\u001b[1;32m    897\u001b[0m                 \u001b[0mself\u001b[0m\u001b[0;34m.\u001b[0m\u001b[0mlog\u001b[0m\u001b[0;34m.\u001b[0m\u001b[0mwarning\u001b[0m\u001b[0;34m(\u001b[0m\u001b[0;34m\"Invalid Message:\"\u001b[0m\u001b[0;34m,\u001b[0m \u001b[0mexc_info\u001b[0m\u001b[0;34m=\u001b[0m\u001b[0;32mTrue\u001b[0m\u001b[0;34m)\u001b[0m\u001b[0;34m\u001b[0m\u001b[0;34m\u001b[0m\u001b[0m\n",
            "\u001b[0;31mKeyboardInterrupt\u001b[0m: Interrupted by user"
          ]
        }
      ]
    },
    {
      "cell_type": "markdown",
      "source": [
        "---\n",
        "# 📙Concepts and elements to cover for our goal:\n",
        "\n",
        "0. Importing modules: Explain how to import a module (like random) and use its functions (like random.shuffle()).\n",
        "\n",
        "1. Python basics: Basic data types (strings, integers, lists, dictionaries), variables, and basic input/output functions (like print() and input()).\n",
        "\n",
        "2. String manipulation: Cover string methods like .strip() and .lower().\n",
        "3. Control structures: Introduce for loops, while loops, and conditional statements (if, elif, else).\n",
        "\n",
        "4. Functions: Explain how to define and use functions, including function parameters. \n",
        "\n",
        "5. F-strings: Introduce f-strings (formatted string literals) and how to embed expressions inside string literals using curly braces {}.\n",
        "---"
      ],
      "metadata": {
        "id": "2VMRdKbJwOsk"
      }
    },
    {
      "cell_type": "markdown",
      "source": [
        "# [0] Importing modules\n",
        "\n",
        "1. **function, (class), module, package, and library**\n",
        "\n",
        "> (class) > functions\n",
        "\n",
        "\n",
        "2. Let's use the analogy of a toolbox: \n",
        "\n",
        "+ **a module** is a single tool, (e.g., random) \n",
        "+ **a package** is a toolbox containing multiple tools (e.g., gTTS)\n",
        "+ **a library** is a set of toolboxes designed for a specific purpose. (e.g., nltk - Natural Language Tool Kit) _>> Next time_"
      ],
      "metadata": {
        "id": "wgZEzhkQwzc3"
      }
    },
    {
      "cell_type": "markdown",
      "source": [
        "##A. 'gTTS' package"
      ],
      "metadata": {
        "id": "298wKG9q7-rN"
      }
    },
    {
      "cell_type": "code",
      "source": [
        "!pip install gtts\n",
        "!pip install IPython\n",
        "from gtts import gTTS\n",
        "from IPython.display import Audio, display"
      ],
      "metadata": {
        "id": "YLCRqNbW8E9J",
        "outputId": "7ee082bd-0fc8-4203-cf34-fd44287dda0b",
        "colab": {
          "base_uri": "https://localhost:8080/"
        }
      },
      "execution_count": 11,
      "outputs": [
        {
          "output_type": "stream",
          "name": "stdout",
          "text": [
            "Looking in indexes: https://pypi.org/simple, https://us-python.pkg.dev/colab-wheels/public/simple/\n",
            "Requirement already satisfied: gtts in /usr/local/lib/python3.9/dist-packages (2.3.1)\n",
            "Requirement already satisfied: requests<3,>=2.27 in /usr/local/lib/python3.9/dist-packages (from gtts) (2.27.1)\n",
            "Requirement already satisfied: click<8.2,>=7.1 in /usr/local/lib/python3.9/dist-packages (from gtts) (8.1.3)\n",
            "Requirement already satisfied: certifi>=2017.4.17 in /usr/local/lib/python3.9/dist-packages (from requests<3,>=2.27->gtts) (2022.12.7)\n",
            "Requirement already satisfied: idna<4,>=2.5 in /usr/local/lib/python3.9/dist-packages (from requests<3,>=2.27->gtts) (3.4)\n",
            "Requirement already satisfied: charset-normalizer~=2.0.0 in /usr/local/lib/python3.9/dist-packages (from requests<3,>=2.27->gtts) (2.0.12)\n",
            "Requirement already satisfied: urllib3<1.27,>=1.21.1 in /usr/local/lib/python3.9/dist-packages (from requests<3,>=2.27->gtts) (1.26.15)\n",
            "Looking in indexes: https://pypi.org/simple, https://us-python.pkg.dev/colab-wheels/public/simple/\n",
            "Requirement already satisfied: IPython in /usr/local/lib/python3.9/dist-packages (7.34.0)\n",
            "Requirement already satisfied: traitlets>=4.2 in /usr/local/lib/python3.9/dist-packages (from IPython) (5.7.1)\n",
            "Requirement already satisfied: decorator in /usr/local/lib/python3.9/dist-packages (from IPython) (4.4.2)\n",
            "Requirement already satisfied: backcall in /usr/local/lib/python3.9/dist-packages (from IPython) (0.2.0)\n",
            "Requirement already satisfied: prompt-toolkit!=3.0.0,!=3.0.1,<3.1.0,>=2.0.0 in /usr/local/lib/python3.9/dist-packages (from IPython) (3.0.38)\n",
            "Requirement already satisfied: matplotlib-inline in /usr/local/lib/python3.9/dist-packages (from IPython) (0.1.6)\n",
            "Requirement already satisfied: pygments in /usr/local/lib/python3.9/dist-packages (from IPython) (2.14.0)\n",
            "Requirement already satisfied: pickleshare in /usr/local/lib/python3.9/dist-packages (from IPython) (0.7.5)\n",
            "Requirement already satisfied: setuptools>=18.5 in /usr/local/lib/python3.9/dist-packages (from IPython) (67.6.1)\n",
            "Requirement already satisfied: jedi>=0.16 in /usr/local/lib/python3.9/dist-packages (from IPython) (0.18.2)\n",
            "Requirement already satisfied: pexpect>4.3 in /usr/local/lib/python3.9/dist-packages (from IPython) (4.8.0)\n",
            "Requirement already satisfied: parso<0.9.0,>=0.8.0 in /usr/local/lib/python3.9/dist-packages (from jedi>=0.16->IPython) (0.8.3)\n",
            "Requirement already satisfied: ptyprocess>=0.5 in /usr/local/lib/python3.9/dist-packages (from pexpect>4.3->IPython) (0.7.0)\n",
            "Requirement already satisfied: wcwidth in /usr/local/lib/python3.9/dist-packages (from prompt-toolkit!=3.0.0,!=3.0.1,<3.1.0,>=2.0.0->IPython) (0.2.6)\n"
          ]
        }
      ]
    },
    {
      "cell_type": "markdown",
      "source": [
        "!pip = 설치 안 되어있는 것을 설치할 때 쓰는 코딩\n",
        "install\n",
        "from, import"
      ],
      "metadata": {
        "id": "F9uYxy9Khvqy"
      }
    },
    {
      "cell_type": "code",
      "source": [
        "#@markdown etts(), ktts()\n",
        "def etts(text):\n",
        "  text_to_say = text\n",
        "\n",
        "  gtts_object = gTTS(text = text_to_say,\n",
        "                     lang = \"en\",\n",
        "                    slow = False)\n",
        "  \n",
        "  gtts_object.save(\"E-audio.mp3\")\n",
        "  return Audio(\"E-audio.mp3\")\n",
        "\n",
        "def ktts(text):\n",
        "  text_to_say = text\n",
        "\n",
        "  gtts_object = gTTS(text = text_to_say,\n",
        "                     lang = \"ko\",\n",
        "                    slow = False)\n",
        "  \n",
        "  gtts_object.save(\"K-audio.mp3\")\n",
        "  return Audio(\"K-audio.mp3\")"
      ],
      "metadata": {
        "id": "bYDfENzGRUFb"
      },
      "execution_count": 12,
      "outputs": []
    },
    {
      "cell_type": "markdown",
      "source": [
        "## B. 'random' module\n",
        "\n",
        "[Random Picker App using 'random'](https://github.com/MK316/Spring2023/blob/main/RandomPickerS23.ipynb)"
      ],
      "metadata": {
        "id": "vSFe_Umb68o9"
      }
    },
    {
      "cell_type": "code",
      "source": [
        "import random"
      ],
      "metadata": {
        "id": "t8tYICF_1Yx8"
      },
      "execution_count": 13,
      "outputs": []
    },
    {
      "cell_type": "markdown",
      "source": [
        "Return a number between 3 and 9 (both included):"
      ],
      "metadata": {
        "id": "RlWQ5dXark-r"
      }
    },
    {
      "cell_type": "code",
      "source": [
        "random.randint(1, 10) #random.randint(x,y)는 함수이므로 문법대로 사용해야 함."
      ],
      "metadata": {
        "colab": {
          "base_uri": "https://localhost:8080/"
        },
        "id": "sMf1Ow7W11EZ",
        "outputId": "3abd8337-82d8-4d31-b01a-0418fe4d482f"
      },
      "execution_count": 14,
      "outputs": [
        {
          "output_type": "execute_result",
          "data": {
            "text/plain": [
              "8"
            ]
          },
          "metadata": {},
          "execution_count": 14
        }
      ]
    },
    {
      "cell_type": "code",
      "source": [
        "a1 = random.randint(1, 10)\n",
        "a1*10  #변수를 이용하면 결과값을 이용한 다른 연산이나 작업이 가능하다."
      ],
      "metadata": {
        "colab": {
          "base_uri": "https://localhost:8080/"
        },
        "id": "WUVN9-Rs825s",
        "outputId": "56141baf-bb7b-41a4-cc1b-dd105d1a340c"
      },
      "execution_count": 15,
      "outputs": [
        {
          "output_type": "execute_result",
          "data": {
            "text/plain": [
              "60"
            ]
          },
          "metadata": {},
          "execution_count": 15
        }
      ]
    },
    {
      "cell_type": "markdown",
      "source": [
        "a1 = 변수\n"
      ],
      "metadata": {
        "id": "BxeRi33kkpUR"
      }
    },
    {
      "cell_type": "markdown",
      "source": [
        "# [1] Python basics: \n",
        "\n",
        "+ Basic data types (strings, integers, lists, dictionaries), \n",
        "+ variables, \n",
        "+ basic input/output functions (like print() and input()).\n",
        "\n"
      ],
      "metadata": {
        "id": "_vTm-kXl8qa_"
      }
    },
    {
      "cell_type": "markdown",
      "source": [
        "## [1-1] Basic data types"
      ],
      "metadata": {
        "id": "qaQ0_hkoENRX"
      }
    },
    {
      "cell_type": "markdown",
      "source": [
        "### A. strings"
      ],
      "metadata": {
        "id": "HB86s1k990Hh"
      }
    },
    {
      "cell_type": "code",
      "source": [
        "a2 = \"Welcome\"\n",
        "a3 = \"2023\""
      ],
      "metadata": {
        "id": "L_OImwSL94Kr"
      },
      "execution_count": null,
      "outputs": []
    },
    {
      "cell_type": "markdown",
      "source": [
        "☺️ DIY: How to get \"Welcome, 2023!\""
      ],
      "metadata": {
        "id": "wkYUBwu1-IvG"
      }
    },
    {
      "cell_type": "code",
      "source": [],
      "metadata": {
        "id": "XZ2LHJcl9_u4",
        "outputId": "f6b592bd-8a7f-4b62-e14f-f97e80cdece8",
        "colab": {
          "base_uri": "https://localhost:8080/",
          "height": 35
        }
      },
      "execution_count": null,
      "outputs": [
        {
          "output_type": "execute_result",
          "data": {
            "text/plain": [
              "'Welcome, 2023!'"
            ],
            "application/vnd.google.colaboratory.intrinsic+json": {
              "type": "string"
            }
          },
          "metadata": {},
          "execution_count": 20
        }
      ]
    },
    {
      "cell_type": "markdown",
      "source": [
        "☺️ DIY: Let a4 = \"화이팅\", and get '화이팅화이팅화이팅화이팅화이팅화이팅화이팅화이팅화이팅화이팅'(10번)"
      ],
      "metadata": {
        "id": "WNaHBznU-yEd"
      }
    },
    {
      "cell_type": "code",
      "source": [],
      "metadata": {
        "id": "0vfPcih3-xg4",
        "outputId": "be3891a2-8eba-4f0b-a31b-9e0ed445871a",
        "colab": {
          "base_uri": "https://localhost:8080/",
          "height": 35
        }
      },
      "execution_count": null,
      "outputs": [
        {
          "output_type": "execute_result",
          "data": {
            "text/plain": [
              "'화이팅화이팅화이팅화이팅화이팅화이팅화이팅화이팅화이팅화이팅'"
            ],
            "application/vnd.google.colaboratory.intrinsic+json": {
              "type": "string"
            }
          },
          "metadata": {},
          "execution_count": 21
        }
      ]
    },
    {
      "cell_type": "code",
      "source": [
        "type(a2). # data type of the variable a2"
      ],
      "metadata": {
        "colab": {
          "base_uri": "https://localhost:8080/"
        },
        "id": "1XroWNyGADZU",
        "outputId": "05a0322b-a18c-401f-8aa2-ec8a7975d907"
      },
      "execution_count": null,
      "outputs": [
        {
          "output_type": "execute_result",
          "data": {
            "text/plain": [
              "str"
            ]
          },
          "metadata": {},
          "execution_count": 22
        }
      ]
    },
    {
      "cell_type": "markdown",
      "source": [
        "###B. Integers, float"
      ],
      "metadata": {
        "id": "kpNXrqZ2_9I2"
      }
    },
    {
      "cell_type": "code",
      "source": [
        "x1 = 45; y1 = 0.5\n",
        "x1 * y1"
      ],
      "metadata": {
        "colab": {
          "base_uri": "https://localhost:8080/"
        },
        "id": "CEs2BHNbAB1Q",
        "outputId": "e63af813-d7ca-422b-91d2-75a50ef4564e"
      },
      "execution_count": null,
      "outputs": [
        {
          "output_type": "execute_result",
          "data": {
            "text/plain": [
              "22.5"
            ]
          },
          "metadata": {},
          "execution_count": 23
        }
      ]
    },
    {
      "cell_type": "code",
      "source": [],
      "metadata": {
        "id": "2WarI3IQsRJX",
        "outputId": "8304e3e2-9753-45f0-adb6-b2da469a304a",
        "colab": {
          "base_uri": "https://localhost:8080/"
        }
      },
      "execution_count": null,
      "outputs": [
        {
          "output_type": "execute_result",
          "data": {
            "text/plain": [
              "float"
            ]
          },
          "metadata": {},
          "execution_count": 24
        }
      ]
    },
    {
      "cell_type": "markdown",
      "source": [
        "### C. List datatype"
      ],
      "metadata": {
        "id": "S7PJcJFkBO46"
      }
    },
    {
      "cell_type": "code",
      "source": [
        "x2 = [1,2,3]\n",
        "x2"
      ],
      "metadata": {
        "colab": {
          "base_uri": "https://localhost:8080/"
        },
        "id": "LjSEH6lABR98",
        "outputId": "eb284b7f-40ef-48c5-ea6f-926543a1ee7b"
      },
      "execution_count": null,
      "outputs": [
        {
          "output_type": "execute_result",
          "data": {
            "text/plain": [
              "[1, 2, 3]"
            ]
          },
          "metadata": {},
          "execution_count": 26
        }
      ]
    },
    {
      "cell_type": "markdown",
      "source": [
        "x2[index]: Python index starts from 0"
      ],
      "metadata": {
        "id": "xcPyj0Fesdiu"
      }
    },
    {
      "cell_type": "code",
      "source": [
        "x2[0]"
      ],
      "metadata": {
        "id": "VGWl1av6BYGu"
      },
      "execution_count": null,
      "outputs": []
    },
    {
      "cell_type": "code",
      "source": [
        "# range(x,y)\n",
        "x3 = range(1,10)\n",
        "list(x3)  #list(), range(1,10)"
      ],
      "metadata": {
        "colab": {
          "base_uri": "https://localhost:8080/"
        },
        "id": "WNmjoCQ1ANr4",
        "outputId": "9e1cf838-bd7f-47f5-def6-731599ef24a5"
      },
      "execution_count": null,
      "outputs": [
        {
          "output_type": "execute_result",
          "data": {
            "text/plain": [
              "[1, 2, 3, 4, 5, 6, 7, 8, 9]"
            ]
          },
          "metadata": {},
          "execution_count": 28
        }
      ]
    },
    {
      "cell_type": "code",
      "source": [
        "x4 = \"John\"\n",
        "list(x4)"
      ],
      "metadata": {
        "colab": {
          "base_uri": "https://localhost:8080/"
        },
        "id": "amRP-ytuBlO6",
        "outputId": "a8eeef49-a6aa-4452-f9e2-d933278c0bdc"
      },
      "execution_count": null,
      "outputs": [
        {
          "output_type": "execute_result",
          "data": {
            "text/plain": [
              "['J', 'o', 'h', 'n']"
            ]
          },
          "metadata": {},
          "execution_count": 29
        }
      ]
    },
    {
      "cell_type": "markdown",
      "source": [
        "###D. Dictionary datatype: {'key':'value'}\n",
        "\n",
        "In Python, a dictionary is a built-in data type that represents a collection of key-value pairs. Each key-value pair in a dictionary is separated by a colon (:), and each pair is separated by a comma. "
      ],
      "metadata": {
        "id": "ZoyOSN_QCCdO"
      }
    },
    {
      "cell_type": "code",
      "source": [
        "mydict = {\"API\":\"Application Programming Interface\", \"GPT\":\"Generative Pretrained Transformer\"}\n",
        "mydict['API']"
      ],
      "metadata": {
        "colab": {
          "base_uri": "https://localhost:8080/",
          "height": 35
        },
        "id": "PdRkfL3JBMWK",
        "outputId": "0e165aee-8079-4359-c38e-64e33c14c9ac"
      },
      "execution_count": null,
      "outputs": [
        {
          "output_type": "execute_result",
          "data": {
            "text/plain": [
              "'Application Programming Interface'"
            ],
            "application/vnd.google.colaboratory.intrinsic+json": {
              "type": "string"
            }
          },
          "metadata": {},
          "execution_count": 30
        }
      ]
    },
    {
      "cell_type": "code",
      "source": [
        "mydict['GPT']"
      ],
      "metadata": {
        "id": "muVfPouBs47b",
        "outputId": "1d08be3c-9e45-4a57-c0e4-1d7ff7368986",
        "colab": {
          "base_uri": "https://localhost:8080/",
          "height": 35
        }
      },
      "execution_count": null,
      "outputs": [
        {
          "output_type": "execute_result",
          "data": {
            "text/plain": [
              "'Generative Pretrained Transformer'"
            ],
            "application/vnd.google.colaboratory.intrinsic+json": {
              "type": "string"
            }
          },
          "metadata": {},
          "execution_count": 31
        }
      ]
    },
    {
      "cell_type": "code",
      "source": [
        "class_size = {\"Class A\": 25, \"Class B\": 30, \"Class C\": 32}\n",
        "class_size['Class C']"
      ],
      "metadata": {
        "colab": {
          "base_uri": "https://localhost:8080/"
        },
        "id": "WBs-NrEJDQRC",
        "outputId": "6c9a6b9f-6471-4424-a133-d47bb0d08f8c"
      },
      "execution_count": null,
      "outputs": [
        {
          "output_type": "execute_result",
          "data": {
            "text/plain": [
              "32"
            ]
          },
          "metadata": {},
          "execution_count": 32
        }
      ]
    },
    {
      "cell_type": "markdown",
      "source": [
        "## [1-2] Variables"
      ],
      "metadata": {
        "id": "0m_ux_SoEUos"
      }
    },
    {
      "cell_type": "markdown",
      "source": [
        "## [1-3] input/output functions"
      ],
      "metadata": {
        "id": "YUasz63dEYAX"
      }
    },
    {
      "cell_type": "code",
      "source": [
        "mynumber = 2\n",
        "mynumber"
      ],
      "metadata": {
        "colab": {
          "base_uri": "https://localhost:8080/"
        },
        "id": "BSp7TWkeEfmz",
        "outputId": "3bcd84d2-c721-4bc7-da68-a245706b8b5c"
      },
      "execution_count": null,
      "outputs": [
        {
          "output_type": "execute_result",
          "data": {
            "text/plain": [
              "2"
            ]
          },
          "metadata": {},
          "execution_count": 87
        }
      ]
    },
    {
      "cell_type": "code",
      "source": [
        "yournumber = input()  # In Python, input() is a built-in function that allows you to get user input from the keyboard. \n",
        "yournumber"
      ],
      "metadata": {
        "colab": {
          "base_uri": "https://localhost:8080/",
          "height": 53
        },
        "id": "6LZudH_0En_w",
        "outputId": "783d5cc3-75a8-465a-963e-b294e0816f0a"
      },
      "execution_count": null,
      "outputs": [
        {
          "name": "stdout",
          "output_type": "stream",
          "text": [
            "4\n"
          ]
        },
        {
          "output_type": "execute_result",
          "data": {
            "text/plain": [
              "'4'"
            ],
            "application/vnd.google.colaboratory.intrinsic+json": {
              "type": "string"
            }
          },
          "metadata": {},
          "execution_count": 33
        }
      ]
    },
    {
      "cell_type": "markdown",
      "source": [
        "☺️ After running the code below, can you tell what the resulting output means?"
      ],
      "metadata": {
        "id": "-Z1mQqzlH4k5"
      }
    },
    {
      "cell_type": "code",
      "source": [
        "yournumber*5"
      ],
      "metadata": {
        "colab": {
          "base_uri": "https://localhost:8080/",
          "height": 35
        },
        "id": "5cGgSs3qHxG_",
        "outputId": "61f4269a-ed03-4cae-f717-7f70b0c34f76"
      },
      "execution_count": null,
      "outputs": [
        {
          "output_type": "execute_result",
          "data": {
            "text/plain": [
              "'44444'"
            ],
            "application/vnd.google.colaboratory.intrinsic+json": {
              "type": "string"
            }
          },
          "metadata": {},
          "execution_count": 34
        }
      ]
    },
    {
      "cell_type": "code",
      "source": [
        "type(yournumber)"
      ],
      "metadata": {
        "colab": {
          "base_uri": "https://localhost:8080/"
        },
        "id": "664rKEalISSY",
        "outputId": "5314bd92-1d93-4d40-d399-b18d7d3b8930"
      },
      "execution_count": null,
      "outputs": [
        {
          "output_type": "execute_result",
          "data": {
            "text/plain": [
              "str"
            ]
          },
          "metadata": {},
          "execution_count": 35
        }
      ]
    },
    {
      "cell_type": "code",
      "source": [
        "yournumber = int(yournumber) # changing the type of the value to integer\n",
        "type(yournumber)"
      ],
      "metadata": {
        "colab": {
          "base_uri": "https://localhost:8080/"
        },
        "id": "u_ocEyoAIVC4",
        "outputId": "cae55304-aabb-4b25-bf49-c0c051815f76"
      },
      "execution_count": null,
      "outputs": [
        {
          "output_type": "execute_result",
          "data": {
            "text/plain": [
              "int"
            ]
          },
          "metadata": {},
          "execution_count": 36
        }
      ]
    },
    {
      "cell_type": "markdown",
      "source": [
        "Getting output:"
      ],
      "metadata": {
        "id": "Z9Kzd8ZW7Bri"
      }
    },
    {
      "cell_type": "code",
      "source": [
        "# print() 함수 배우기\n",
        "print(\"대한민국\")\n",
        "\n",
        "a2 = \"화이팅!\"  # a1: variable(변수)\n",
        "print(a2)\n",
        "print(a2*10)\n",
        "print(\"화이팅 10번 합시다: \", a2*10)\n",
        "a2"
      ],
      "metadata": {
        "id": "aQXDo7u-4-18",
        "outputId": "d02c1b36-7980-4293-8168-c3d350b08205",
        "colab": {
          "base_uri": "https://localhost:8080/",
          "height": 105
        }
      },
      "execution_count": null,
      "outputs": [
        {
          "output_type": "stream",
          "name": "stdout",
          "text": [
            "대한민국\n",
            "화이팅!\n",
            "화이팅!화이팅!화이팅!화이팅!화이팅!화이팅!화이팅!화이팅!화이팅!화이팅!\n",
            "화이팅 10번 합시다:  화이팅!화이팅!화이팅!화이팅!화이팅!화이팅!화이팅!화이팅!화이팅!화이팅!\n"
          ]
        },
        {
          "output_type": "execute_result",
          "data": {
            "text/plain": [
              "'화이팅!'"
            ],
            "application/vnd.google.colaboratory.intrinsic+json": {
              "type": "string"
            }
          },
          "metadata": {},
          "execution_count": 37
        }
      ]
    },
    {
      "cell_type": "code",
      "source": [
        "print(a2)\n",
        "print(\"=\"*30)\n",
        "a1=random.randint(1,10)\n",
        "print(\"Random integer between 1 and 10:\", a1)"
      ],
      "metadata": {
        "colab": {
          "base_uri": "https://localhost:8080/"
        },
        "id": "0jdQu65F2ZWw",
        "outputId": "3a5d1c38-1e5a-4df4-8b8a-e7d3b08ce48b"
      },
      "execution_count": null,
      "outputs": [
        {
          "output_type": "stream",
          "name": "stdout",
          "text": [
            "화이팅!\n",
            "==============================\n",
            "Random integer between 1 and 10: 7\n"
          ]
        }
      ]
    },
    {
      "cell_type": "markdown",
      "source": [
        "☺️DIY: \n",
        "**Q: John and Mary have been together for many days. Ask Mary how many days it has been since she met John. Then you tell Mary how many hours it has been since she met John.**\n",
        "\n",
        "1. Set the variable 'day' to 24\n",
        "2. Set the variable 'num_day' for the input from the user. Get a number (number of days) from the user using input() function\n",
        "2. Calculate days to hours: set the variable 'hours' to the final result."
      ],
      "metadata": {
        "id": "cvkWAvetFtSP"
      }
    },
    {
      "cell_type": "code",
      "source": [
        "day = \n",
        "num_day = \n",
        "hours = \n",
        "print(\"The total hours passed since Mary met John are: \", hours, \"hours.\")"
      ],
      "metadata": {
        "id": "Fdezo9WD1zju",
        "outputId": "174b66de-637f-420b-f218-3dbcf86e8f5b",
        "colab": {
          "base_uri": "https://localhost:8080/"
        }
      },
      "execution_count": null,
      "outputs": [
        {
          "output_type": "stream",
          "name": "stdout",
          "text": [
            "How many days? 23\n",
            "The total hours passed since Mary met John are:  552 hours.\n"
          ]
        }
      ]
    },
    {
      "cell_type": "markdown",
      "source": [
        "#[2] String manipulation: strip() and .lower().\n",
        "\n"
      ],
      "metadata": {
        "id": "zzkVAfU61HDk"
      }
    },
    {
      "cell_type": "markdown",
      "source": [
        "### **data.strip()**\n",
        "\n",
        "+ In Python, strip() is a built-in string method that returns a copy of the string with leading and trailing characters removed. \n",
        "+ By default, strip() removes whitespace characters such as spaces, tabs, and newlines from the beginning and end of the string."
      ],
      "metadata": {
        "id": "sSi_PvE5LTeC"
      }
    },
    {
      "cell_type": "code",
      "source": [
        "w1 = \" Mary is friendly. \"\n",
        "w1"
      ],
      "metadata": {
        "colab": {
          "base_uri": "https://localhost:8080/",
          "height": 35
        },
        "id": "IUtU-qG81XIt",
        "outputId": "e220311b-615a-4482-fcf3-989e2bcf0a26"
      },
      "execution_count": null,
      "outputs": [
        {
          "output_type": "execute_result",
          "data": {
            "text/plain": [
              "' Mary is friendly. '"
            ],
            "application/vnd.google.colaboratory.intrinsic+json": {
              "type": "string"
            }
          },
          "metadata": {},
          "execution_count": 46
        }
      ]
    },
    {
      "cell_type": "code",
      "source": [
        "w1.strip()"
      ],
      "metadata": {
        "colab": {
          "base_uri": "https://localhost:8080/",
          "height": 35
        },
        "id": "ZAhdPbqVKr6e",
        "outputId": "cd233fa9-fd66-4f89-da29-02e5f8e8ddf7"
      },
      "execution_count": null,
      "outputs": [
        {
          "output_type": "execute_result",
          "data": {
            "text/plain": [
              "'Mary is friendly.'"
            ],
            "application/vnd.google.colaboratory.intrinsic+json": {
              "type": "string"
            }
          },
          "metadata": {},
          "execution_count": 47
        }
      ]
    },
    {
      "cell_type": "markdown",
      "source": [
        "### **data.split()**"
      ],
      "metadata": {
        "id": "JGPdtmu8MFgv"
      }
    },
    {
      "cell_type": "code",
      "source": [
        "w1 = \"Mary is friendly.\"\n",
        "w1.split()"
      ],
      "metadata": {
        "colab": {
          "base_uri": "https://localhost:8080/"
        },
        "id": "xbF1sJB9MIpw",
        "outputId": "b9175d5c-0146-44ee-a8dc-9e11d71cdbd9"
      },
      "execution_count": null,
      "outputs": [
        {
          "output_type": "execute_result",
          "data": {
            "text/plain": [
              "['Mary', 'is', 'friendly.']"
            ]
          },
          "metadata": {},
          "execution_count": 48
        }
      ]
    },
    {
      "cell_type": "code",
      "source": [
        "w2 = \"out-of-date\"\n",
        "w2.split('-')"
      ],
      "metadata": {
        "colab": {
          "base_uri": "https://localhost:8080/"
        },
        "id": "IudKgTjkMVQP",
        "outputId": "fffcbccf-0217-466c-bcc2-d35131bd60c7"
      },
      "execution_count": null,
      "outputs": [
        {
          "output_type": "execute_result",
          "data": {
            "text/plain": [
              "['out', 'of', 'date']"
            ]
          },
          "metadata": {},
          "execution_count": 49
        }
      ]
    },
    {
      "cell_type": "code",
      "source": [
        "w1 = \"Mary\"\n",
        "w2 = \"is\"\n",
        "w3 = \"friendly\""
      ],
      "metadata": {
        "id": "tGBOKKKtLvj7"
      },
      "execution_count": null,
      "outputs": []
    },
    {
      "cell_type": "code",
      "source": [
        "wordlist = [w1, w2, w3]\n",
        "wordlist"
      ],
      "metadata": {
        "colab": {
          "base_uri": "https://localhost:8080/"
        },
        "id": "c11AXGr0V_a4",
        "outputId": "f5a0b40c-c834-4888-c9fa-b243ac79243e"
      },
      "execution_count": null,
      "outputs": [
        {
          "output_type": "execute_result",
          "data": {
            "text/plain": [
              "['Mary', 'is', 'friendly']"
            ]
          },
          "metadata": {},
          "execution_count": 51
        }
      ]
    },
    {
      "cell_type": "markdown",
      "source": [
        "### **' '.join()**"
      ],
      "metadata": {
        "id": "Mb-LFWWPWn08"
      }
    },
    {
      "cell_type": "code",
      "source": [
        "' '.join(wordlist)"
      ],
      "metadata": {
        "colab": {
          "base_uri": "https://localhost:8080/",
          "height": 35
        },
        "id": "tZA7DsPPWGmA",
        "outputId": "90221f13-9bd2-40de-da6a-de32c074fb58"
      },
      "execution_count": null,
      "outputs": [
        {
          "output_type": "execute_result",
          "data": {
            "text/plain": [
              "'Mary is friendly'"
            ],
            "application/vnd.google.colaboratory.intrinsic+json": {
              "type": "string"
            }
          },
          "metadata": {},
          "execution_count": 52
        }
      ]
    },
    {
      "cell_type": "code",
      "source": [
        "'-'.join(wordlist)"
      ],
      "metadata": {
        "colab": {
          "base_uri": "https://localhost:8080/",
          "height": 35
        },
        "id": "EjLtWSL5WdYy",
        "outputId": "4ce99690-92b2-4ac7-b8c2-ee45569c21fe"
      },
      "execution_count": null,
      "outputs": [
        {
          "output_type": "execute_result",
          "data": {
            "text/plain": [
              "'Mary-is-friendly'"
            ],
            "application/vnd.google.colaboratory.intrinsic+json": {
              "type": "string"
            }
          },
          "metadata": {},
          "execution_count": 53
        }
      ]
    },
    {
      "cell_type": "markdown",
      "source": [
        "### **data.lower(), data.upper()**"
      ],
      "metadata": {
        "id": "PgCIMbbcL29X"
      }
    },
    {
      "cell_type": "code",
      "source": [
        "w1.lower()"
      ],
      "metadata": {
        "colab": {
          "base_uri": "https://localhost:8080/",
          "height": 35
        },
        "id": "JGqTVM22MuH0",
        "outputId": "118e59a5-ab1a-4271-98b6-5e38fd509488"
      },
      "execution_count": null,
      "outputs": [
        {
          "output_type": "execute_result",
          "data": {
            "text/plain": [
              "'mary'"
            ],
            "application/vnd.google.colaboratory.intrinsic+json": {
              "type": "string"
            }
          },
          "metadata": {},
          "execution_count": 54
        }
      ]
    },
    {
      "cell_type": "code",
      "source": [
        "w1.upper()"
      ],
      "metadata": {
        "colab": {
          "base_uri": "https://localhost:8080/",
          "height": 35
        },
        "id": "fP2lBss3Myhq",
        "outputId": "7b93479c-d868-4f9d-d120-456ed03398a4"
      },
      "execution_count": null,
      "outputs": [
        {
          "output_type": "execute_result",
          "data": {
            "text/plain": [
              "'MARY'"
            ],
            "application/vnd.google.colaboratory.intrinsic+json": {
              "type": "string"
            }
          },
          "metadata": {},
          "execution_count": 55
        }
      ]
    },
    {
      "cell_type": "markdown",
      "source": [
        "string index"
      ],
      "metadata": {
        "id": "yZJk2NtCM_oz"
      }
    },
    {
      "cell_type": "code",
      "source": [
        "len(w1) #number of string"
      ],
      "metadata": {
        "colab": {
          "base_uri": "https://localhost:8080/"
        },
        "id": "HmuiXLZSNGNa",
        "outputId": "a04863f4-d425-4cca-ae44-b0b8506c2910"
      },
      "execution_count": null,
      "outputs": [
        {
          "output_type": "execute_result",
          "data": {
            "text/plain": [
              "4"
            ]
          },
          "metadata": {},
          "execution_count": 56
        }
      ]
    },
    {
      "cell_type": "code",
      "source": [
        "w1[0] #1st string"
      ],
      "metadata": {
        "colab": {
          "base_uri": "https://localhost:8080/",
          "height": 35
        },
        "id": "xiyozLYxM6xk",
        "outputId": "b87c69f9-889e-4473-b142-33ef06d35790"
      },
      "execution_count": null,
      "outputs": [
        {
          "output_type": "execute_result",
          "data": {
            "text/plain": [
              "'M'"
            ],
            "application/vnd.google.colaboratory.intrinsic+json": {
              "type": "string"
            }
          },
          "metadata": {},
          "execution_count": 57
        }
      ]
    },
    {
      "cell_type": "code",
      "source": [
        "w1[-1]"
      ],
      "metadata": {
        "colab": {
          "base_uri": "https://localhost:8080/",
          "height": 35
        },
        "id": "AY_Ii7FhNeof",
        "outputId": "4cda0399-33ee-42f3-bf12-9f6aa11cd329"
      },
      "execution_count": null,
      "outputs": [
        {
          "output_type": "execute_result",
          "data": {
            "text/plain": [
              "'y'"
            ],
            "application/vnd.google.colaboratory.intrinsic+json": {
              "type": "string"
            }
          },
          "metadata": {},
          "execution_count": 58
        }
      ]
    },
    {
      "cell_type": "code",
      "source": [
        "w1[0:]"
      ],
      "metadata": {
        "id": "vhfF3iXwNijx"
      },
      "execution_count": null,
      "outputs": []
    },
    {
      "cell_type": "code",
      "source": [
        "w1[:]"
      ],
      "metadata": {
        "id": "pW4m0FoyNlf4"
      },
      "execution_count": null,
      "outputs": []
    },
    {
      "cell_type": "code",
      "source": [
        "w1[1:3]"
      ],
      "metadata": {
        "id": "tgp9ozDdNpwd"
      },
      "execution_count": null,
      "outputs": []
    },
    {
      "cell_type": "code",
      "source": [
        "w = \"mary\"\n",
        "w[0:-1]"
      ],
      "metadata": {
        "id": "0Su3TuHfPxwh"
      },
      "execution_count": null,
      "outputs": []
    },
    {
      "cell_type": "markdown",
      "source": [
        "☺️ DIY: Convert a statement to a yes-no question (e.g., Mary is smart. Tom is smiling. Jane is late.)"
      ],
      "metadata": {
        "id": "lGVkVdCLNMz0"
      }
    },
    {
      "cell_type": "code",
      "source": [
        "w1 = \"Mary\"; w2 = \"is\"; w3 = \"friendly.\""
      ],
      "metadata": {
        "id": "nz1VNUviNXaJ"
      },
      "execution_count": null,
      "outputs": []
    }
  ]
}