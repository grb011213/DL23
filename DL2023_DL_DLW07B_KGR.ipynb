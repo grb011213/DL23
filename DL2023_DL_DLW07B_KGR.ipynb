{
  "nbformat": 4,
  "nbformat_minor": 0,
  "metadata": {
    "colab": {
      "provenance": [],
      "authorship_tag": "ABX9TyOHVVlduiDgpfn6LwZA0a5x",
      "include_colab_link": true
    },
    "kernelspec": {
      "name": "python3",
      "display_name": "Python 3"
    },
    "language_info": {
      "name": "python"
    }
  },
  "cells": [
    {
      "cell_type": "markdown",
      "metadata": {
        "id": "view-in-github",
        "colab_type": "text"
      },
      "source": [
        "<a href=\"https://colab.research.google.com/github/grb011213/DL23/blob/main/DL2023_DL_DLW07B_KGR.ipynb\" target=\"_parent\"><img src=\"https://colab.research.google.com/assets/colab-badge.svg\" alt=\"Open In Colab\"/></a>"
      ]
    },
    {
      "cell_type": "markdown",
      "source": [
        "## String and Integer\n",
        "String : A string is a sequence of characters enclosed in single or double quotes.\n",
        "\n",
        "Integer : Integers are whole numbers, positive or negative, without any decimal points."
      ],
      "metadata": {
        "id": "GIvGP_49fWio"
      }
    },
    {
      "cell_type": "markdown",
      "source": [
        "Exercise 1"
      ],
      "metadata": {
        "id": "szJx0RU8g-k3"
      }
    },
    {
      "cell_type": "code",
      "source": [
        "greeting = \"hello students\"\n",
        "year = 2023"
      ],
      "metadata": {
        "id": "O7ioW-tMgZDP"
      },
      "execution_count": 3,
      "outputs": []
    },
    {
      "cell_type": "markdown",
      "source": [
        "Exercise 2"
      ],
      "metadata": {
        "id": "bkHT2Tjphtex"
      }
    },
    {
      "cell_type": "code",
      "source": [
        "print(greeting)\n",
        "print(year)"
      ],
      "metadata": {
        "colab": {
          "base_uri": "https://localhost:8080/"
        },
        "id": "DVJMYh73gz8e",
        "outputId": "51efb872-1fa5-40ad-8dba-cf3b0ff46000"
      },
      "execution_count": 2,
      "outputs": [
        {
          "output_type": "stream",
          "name": "stdout",
          "text": [
            "hello students\n",
            "2023\n"
          ]
        }
      ]
    },
    {
      "cell_type": "markdown",
      "source": [
        "Exercise 3"
      ],
      "metadata": {
        "id": "4Fo0Q8nFhjsd"
      }
    },
    {
      "cell_type": "code",
      "source": [
        "message = greeting + \" \" + str(year)\n",
        "message"
      ],
      "metadata": {
        "colab": {
          "base_uri": "https://localhost:8080/",
          "height": 36
        },
        "id": "wNazn2a2hQ6R",
        "outputId": "5ef74e7f-cf7d-4547-d0a8-9e196304c57b"
      },
      "execution_count": 5,
      "outputs": [
        {
          "output_type": "execute_result",
          "data": {
            "text/plain": [
              "'hello students 2023'"
            ],
            "application/vnd.google.colaboratory.intrinsic+json": {
              "type": "string"
            }
          },
          "metadata": {},
          "execution_count": 5
        }
      ]
    },
    {
      "cell_type": "markdown",
      "source": [
        "Exercise 4"
      ],
      "metadata": {
        "id": "41KXS67uhnkr"
      }
    },
    {
      "cell_type": "code",
      "source": [
        "num1 = 10\n",
        "num2 = 3\n",
        "\n",
        "print(num1 + num2)\n",
        "print(num1*num2)\n",
        "print(num1-num2)\n",
        "print(num1/num2)"
      ],
      "metadata": {
        "colab": {
          "base_uri": "https://localhost:8080/"
        },
        "id": "VdtuI5J-h7vv",
        "outputId": "60824cdf-a425-4cb5-e53f-b35c10013093"
      },
      "execution_count": 9,
      "outputs": [
        {
          "output_type": "stream",
          "name": "stdout",
          "text": [
            "13\n",
            "30\n",
            "7\n",
            "3.3333333333333335\n"
          ]
        }
      ]
    },
    {
      "cell_type": "code",
      "source": [
        "Exercise 5"
      ],
      "metadata": {
        "id": "m0qqWAQ8iYzM"
      },
      "execution_count": null,
      "outputs": []
    },
    {
      "cell_type": "code",
      "source": [
        "user_string = input()"
      ],
      "metadata": {
        "colab": {
          "base_uri": "https://localhost:8080/"
        },
        "id": "RGPt38MKicBX",
        "outputId": "cd2f18cb-549a-4b8c-c89b-be37f836756a"
      },
      "execution_count": 10,
      "outputs": [
        {
          "name": "stdout",
          "output_type": "stream",
          "text": [
            "Mary\n"
          ]
        }
      ]
    },
    {
      "cell_type": "code",
      "source": [
        "print(user_string)"
      ],
      "metadata": {
        "colab": {
          "base_uri": "https://localhost:8080/"
        },
        "id": "KTIA1njTib0N",
        "outputId": "31482c3b-8c28-4f35-ca0f-eb0f9038cc0a"
      },
      "execution_count": 11,
      "outputs": [
        {
          "output_type": "stream",
          "name": "stdout",
          "text": [
            "Mary\n"
          ]
        }
      ]
    },
    {
      "cell_type": "code",
      "source": [
        "user_number = input(\"Type any numbers \")"
      ],
      "metadata": {
        "colab": {
          "base_uri": "https://localhost:8080/"
        },
        "id": "TyqT8qbHiu_o",
        "outputId": "516bed0f-bec9-46ce-c464-c885be48466f"
      },
      "execution_count": 14,
      "outputs": [
        {
          "name": "stdout",
          "output_type": "stream",
          "text": [
            "Type any numbers 34\n"
          ]
        }
      ]
    },
    {
      "cell_type": "code",
      "source": [
        "user_string = input(\"Type any strings \")\n",
        "user_number = input(\"Type any numbers \")\n",
        "user_number = int(user_number)\n",
        "\n",
        "user_string*user_number"
      ],
      "metadata": {
        "colab": {
          "base_uri": "https://localhost:8080/",
          "height": 72
        },
        "id": "llpiX1HLjDaz",
        "outputId": "5b6181f9-0162-4237-be18-9e3e6217c5ec"
      },
      "execution_count": 20,
      "outputs": [
        {
          "name": "stdout",
          "output_type": "stream",
          "text": [
            "Type any strings Hi\n",
            "Type any numbers 7\n"
          ]
        },
        {
          "output_type": "execute_result",
          "data": {
            "text/plain": [
              "'HiHiHiHiHiHiHi'"
            ],
            "application/vnd.google.colaboratory.intrinsic+json": {
              "type": "string"
            }
          },
          "metadata": {},
          "execution_count": 20
        }
      ]
    },
    {
      "cell_type": "code",
      "source": [
        "a = int(user_number)\n",
        "type(a)"
      ],
      "metadata": {
        "colab": {
          "base_uri": "https://localhost:8080/"
        },
        "id": "nbYT6t0TjdC3",
        "outputId": "31150174-6ee6-46d7-a801-56b328fe4cc5"
      },
      "execution_count": 17,
      "outputs": [
        {
          "output_type": "execute_result",
          "data": {
            "text/plain": [
              "int"
            ]
          },
          "metadata": {},
          "execution_count": 17
        }
      ]
    },
    {
      "cell_type": "markdown",
      "source": [
        "Exercise 6"
      ],
      "metadata": {
        "id": "jT4OJY0VkWoF"
      }
    },
    {
      "cell_type": "code",
      "source": [
        "sentence = \"Coding is fun and easy to learn\"\n",
        "word_list = sentence.split()\n",
        "print(word_list)"
      ],
      "metadata": {
        "colab": {
          "base_uri": "https://localhost:8080/"
        },
        "id": "v5e44U4kkZ1B",
        "outputId": "970cedc4-cc61-49f7-8883-6608e9923732"
      },
      "execution_count": 27,
      "outputs": [
        {
          "output_type": "stream",
          "name": "stdout",
          "text": [
            "['Coding', 'is', 'fun', 'and', 'easy', 'to', 'learn']\n"
          ]
        }
      ]
    },
    {
      "cell_type": "markdown",
      "source": [
        "Exercise 7"
      ],
      "metadata": {
        "id": "X4Z_dd7ClJxJ"
      }
    },
    {
      "cell_type": "code",
      "source": [
        "a = \"Coding is exciting\"\n",
        "uppercase_test = a.upper()\n",
        "lowercase_test = a.lower()\n",
        "lowercase_test"
      ],
      "metadata": {
        "colab": {
          "base_uri": "https://localhost:8080/",
          "height": 36
        },
        "id": "3RGOt9nrlNeC",
        "outputId": "4f5e2b93-1886-4a14-8c59-7128bfe5aaa2"
      },
      "execution_count": 29,
      "outputs": [
        {
          "output_type": "execute_result",
          "data": {
            "text/plain": [
              "'coding is exciting'"
            ],
            "application/vnd.google.colaboratory.intrinsic+json": {
              "type": "string"
            }
          },
          "metadata": {},
          "execution_count": 29
        }
      ]
    },
    {
      "cell_type": "markdown",
      "source": [
        "Exercise 8"
      ],
      "metadata": {
        "id": "UhVo_w1ellrB"
      }
    },
    {
      "cell_type": "code",
      "source": [
        "quote = \"To be or not to be, this is the questions. \"\n",
        "quote[0]"
      ],
      "metadata": {
        "colab": {
          "base_uri": "https://localhost:8080/",
          "height": 36
        },
        "id": "gsk5dZw6loVW",
        "outputId": "a68cd069-b535-435a-bd7b-a9b6de0303ed"
      },
      "execution_count": 30,
      "outputs": [
        {
          "output_type": "execute_result",
          "data": {
            "text/plain": [
              "'T'"
            ],
            "application/vnd.google.colaboratory.intrinsic+json": {
              "type": "string"
            }
          },
          "metadata": {},
          "execution_count": 30
        }
      ]
    },
    {
      "cell_type": "code",
      "source": [
        "quote[3]"
      ],
      "metadata": {
        "colab": {
          "base_uri": "https://localhost:8080/",
          "height": 36
        },
        "id": "A-natwgNl7EK",
        "outputId": "33ee441f-55ee-4ff2-f774-336e1da30f4d"
      },
      "execution_count": 31,
      "outputs": [
        {
          "output_type": "execute_result",
          "data": {
            "text/plain": [
              "'b'"
            ],
            "application/vnd.google.colaboratory.intrinsic+json": {
              "type": "string"
            }
          },
          "metadata": {},
          "execution_count": 31
        }
      ]
    },
    {
      "cell_type": "code",
      "source": [
        "quote[0:5]"
      ],
      "metadata": {
        "colab": {
          "base_uri": "https://localhost:8080/",
          "height": 36
        },
        "id": "a0Xc3e6Cl_u3",
        "outputId": "5b8bf039-be5f-4570-d7d7-5286b04a897a"
      },
      "execution_count": 32,
      "outputs": [
        {
          "output_type": "execute_result",
          "data": {
            "text/plain": [
              "'To be'"
            ],
            "application/vnd.google.colaboratory.intrinsic+json": {
              "type": "string"
            }
          },
          "metadata": {},
          "execution_count": 32
        }
      ]
    },
    {
      "cell_type": "code",
      "source": [
        "quote[5:]"
      ],
      "metadata": {
        "colab": {
          "base_uri": "https://localhost:8080/",
          "height": 36
        },
        "id": "X-7y4oEcmHQF",
        "outputId": "8f4f691d-6579-4b5f-8933-b12d40b8c72b"
      },
      "execution_count": 33,
      "outputs": [
        {
          "output_type": "execute_result",
          "data": {
            "text/plain": [
              "' or not to be, this is the questions. '"
            ],
            "application/vnd.google.colaboratory.intrinsic+json": {
              "type": "string"
            }
          },
          "metadata": {},
          "execution_count": 33
        }
      ]
    },
    {
      "cell_type": "code",
      "source": [
        "reverse = quote[::-1]\n",
        "print(reverse)"
      ],
      "metadata": {
        "colab": {
          "base_uri": "https://localhost:8080/"
        },
        "id": "l7KyQMW4mMau",
        "outputId": "dcc5f2a2-bf7b-4619-be68-b301e93001de"
      },
      "execution_count": 34,
      "outputs": [
        {
          "output_type": "stream",
          "name": "stdout",
          "text": [
            " .snoitseuq eht si siht ,eb ot ton ro eb oT\n"
          ]
        }
      ]
    }
  ]
}